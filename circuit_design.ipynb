{
 "cells": [
  {
   "cell_type": "code",
   "execution_count": 1,
   "id": "f570d53d-8d0d-430f-94c0-1c0c51386090",
   "metadata": {
    "ExecuteTime": {
     "end_time": "2025-02-13T19:47:16.102054Z",
     "start_time": "2025-02-13T19:47:12.415832Z"
    }
   },
   "outputs": [],
   "source": [
    "import functools\n",
    "\n",
    "import numpy as np\n",
    "import pennylane as qml\n",
    "from scipy.linalg import expm\n",
    "\n",
    "from graddft_qnn.dft_qnn import DFTQNN\n",
    "from graddft_qnn.unitary_rep import O_h"
   ]
  },
  {
   "cell_type": "markdown",
   "id": "bef7c9db-5863-4510-bfff-461adfe344b5",
   "metadata": {},
   "source": [
    "# Defining..."
   ]
  },
  {
   "cell_type": "markdown",
   "id": "3baf6bec-98df-40bc-9c9f-7b63c495aa0a",
   "metadata": {},
   "source": [
    "## Unitary reps"
   ]
  },
  {
   "cell_type": "code",
   "execution_count": 2,
   "id": "aa4e6a5d-b814-4811-a969-d76c732aeb06",
   "metadata": {},
   "outputs": [],
   "source": [
    "theta = 1.0"
   ]
  },
  {
   "cell_type": "code",
   "execution_count": 3,
   "id": "87342a1b-5891-478e-b4ea-11a7370c05ea",
   "metadata": {
    "ExecuteTime": {
     "end_time": "2025-02-13T19:47:16.117171Z",
     "start_time": "2025-02-13T19:47:16.111546Z"
    }
   },
   "outputs": [],
   "source": [
    "unitary_reps = O_h._180_deg_rot()\n",
    "unitary_reps_3_axis = O_h._180_deg_rot_3_axis()\n",
    "unitary_reps_rot_ref = O_h._180_deg_rot_ref()"
   ]
  },
  {
   "cell_type": "markdown",
   "id": "266cd443-7344-4051-a890-a2881449371c",
   "metadata": {},
   "source": [
    "## Ansatz"
   ]
  },
  {
   "cell_type": "code",
   "execution_count": 4,
   "id": "9452a0b1-9c9a-4aec-bf05-7bab7734ca65",
   "metadata": {},
   "outputs": [],
   "source": [
    "XII = functools.reduce(np.kron, [qml.X.compute_matrix(), np.eye(2), np.eye(2)])\n",
    "IXI = functools.reduce(np.kron, [np.eye(2), qml.X.compute_matrix(), np.eye(2)])\n",
    "IIX = functools.reduce(np.kron, [np.eye(2), np.eye(2), qml.X.compute_matrix()])"
   ]
  },
  {
   "cell_type": "code",
   "execution_count": 5,
   "id": "0612de6a-42c6-421f-aa48-ca7e13c570d3",
   "metadata": {},
   "outputs": [],
   "source": [
    "YII = functools.reduce(np.kron, [qml.Y.compute_matrix(), np.eye(2), np.eye(2)])\n",
    "IYI = functools.reduce(np.kron, [np.eye(2), qml.Y.compute_matrix(), np.eye(2)])\n",
    "IIY = functools.reduce(np.kron, [np.eye(2), np.eye(2), qml.Y.compute_matrix()])"
   ]
  },
  {
   "cell_type": "code",
   "execution_count": 6,
   "id": "9e0e4ab7-c51d-40df-9e11-741f2e1f9e79",
   "metadata": {},
   "outputs": [],
   "source": [
    "ZII = functools.reduce(np.kron, [qml.Z.compute_matrix(), np.eye(2), np.eye(2)])\n",
    "IZI = functools.reduce(np.kron, [np.eye(2), qml.Z.compute_matrix(), np.eye(2)])\n",
    "IIZ = functools.reduce(np.kron, [np.eye(2), np.eye(2), qml.Z.compute_matrix()])"
   ]
  },
  {
   "cell_type": "markdown",
   "id": "62b07c6e-d299-4a42-9f3a-dd8ad1e3df68",
   "metadata": {},
   "source": [
    "$$\n",
    "ZZ(\\phi) = \\exp\\left(-i \\frac{\\phi}{2} (Z \\otimes Z)\\right) =\n",
    "\\begin{bmatrix}\n",
    "    e^{-i \\phi / 2} & 0 & 0 & 0 \\\\\n",
    "    0 & e^{i \\phi / 2} & 0 & 0 \\\\\n",
    "    0 & 0 & e^{i \\phi / 2} & 0 \\\\\n",
    "    0 & 0 & 0 & e^{-i \\phi / 2}\n",
    "\\end{bmatrix}\n",
    "$$\n",
    "\n",
    "$ZZ(0) = I$"
   ]
  },
  {
   "cell_type": "code",
   "execution_count": 7,
   "id": "960fde91-5220-4bf7-b629-9d2ca60e528c",
   "metadata": {},
   "outputs": [],
   "source": [
    "_ZZZ = functools.reduce(\n",
    "    np.kron,\n",
    "    [qml.Z.compute_matrix(), qml.Z.compute_matrix(), qml.Z.compute_matrix()],\n",
    ")\n",
    "ZZZ_gen = -1j * theta / 2 * _ZZZ"
   ]
  },
  {
   "cell_type": "markdown",
   "id": "8d10a311-8502-4484-b579-d3c07a9c8540",
   "metadata": {},
   "source": [
    "expm(-1 theta X) exmp(-1 theta Z) -> measurement XZ\n",
    "any output of the twirling is measurement, and generator"
   ]
  },
  {
   "cell_type": "code",
   "execution_count": 8,
   "id": "a8c06f19-c373-407c-b583-d5eb95e26132",
   "metadata": {},
   "outputs": [],
   "source": [
    "ZZZ = expm(ZZZ_gen)"
   ]
  },
  {
   "cell_type": "code",
   "execution_count": 9,
   "id": "047d73c8-39a1-439d-b4db-d74038e5ac65",
   "metadata": {},
   "outputs": [],
   "source": [
    "_XYZ = functools.reduce(\n",
    "    np.kron,\n",
    "    [qml.X.compute_matrix(), qml.Y.compute_matrix(), qml.Z.compute_matrix()],\n",
    ")\n",
    "XYZ_gen = -1j * theta / 2 * _XYZ\n",
    "\n",
    "XYZ = expm(XYZ_gen)"
   ]
  },
  {
   "cell_type": "code",
   "execution_count": 10,
   "id": "bc432866-4f29-42ab-bd3a-9f48d929ea98",
   "metadata": {},
   "outputs": [],
   "source": [
    "def process(gate_matrix, u_reprs: list[np.array], return_gen=False):\n",
    "    gen = DFTQNN.twirling(gate_matrix, unitary_reps=u_reprs)\n",
    "    if isinstance(gen, np.ndarray):\n",
    "        lcu = qml.pauli_decompose(\n",
    "            gen, check_hermitian=False, hide_identity=False, pauli=True\n",
    "        )\n",
    "        return (lcu, gen) if return_gen else lcu\n",
    "    return None, gen if return_gen else None"
   ]
  },
  {
   "cell_type": "markdown",
   "id": "a66bc8f9-5824-467f-9f8a-633e2e29294b",
   "metadata": {},
   "source": [
    "# Run the twirling + generator"
   ]
  },
  {
   "cell_type": "code",
   "execution_count": 11,
   "id": "f4c72a8c-8d30-449c-a068-93c32cf72486",
   "metadata": {},
   "outputs": [
    {
     "data": {
      "text/plain": [
       "[(1+0j) * X(0),\n",
       " (1+0j) * X(1),\n",
       " (1+0j) * X(2),\n",
       " (None, None),\n",
       " (None, None),\n",
       " (1+0j) * Y(2),\n",
       " (None, None),\n",
       " (None, None),\n",
       " (1+0j) * Z(2)]"
      ]
     },
     "execution_count": 11,
     "metadata": {},
     "output_type": "execute_result"
    }
   ],
   "source": [
    "[\n",
    "    process(XII, unitary_reps),\n",
    "    process(IXI, unitary_reps),\n",
    "    process(IIX, unitary_reps),\n",
    "    process(YII, unitary_reps),\n",
    "    process(IYI, unitary_reps),\n",
    "    process(IIY, unitary_reps),\n",
    "    process(ZII, unitary_reps),\n",
    "    process(IZI, unitary_reps),\n",
    "    process(IIZ, unitary_reps),\n",
    "]"
   ]
  },
  {
   "cell_type": "code",
   "execution_count": 12,
   "id": "edc347ab-23df-4c3e-8e99-e92ddbbab816",
   "metadata": {},
   "outputs": [
    {
     "data": {
      "text/plain": [
       "[(1+0j) * X(0),\n",
       " (1+0j) * X(1),\n",
       " (1+0j) * X(2),\n",
       " (-0.3333333432674408+0j) * Y(0),\n",
       " (-0.3333333432674408+0j) * Y(1),\n",
       " (-0.3333333432674408+0j) * Y(2),\n",
       " (-0.3333333432674408+0j) * Z(0),\n",
       " (-0.3333333432674408+0j) * Z(1),\n",
       " (-0.3333333432674408+0j) * Z(2)]"
      ]
     },
     "execution_count": 12,
     "metadata": {},
     "output_type": "execute_result"
    }
   ],
   "source": [
    "[\n",
    "    process(XII, unitary_reps_3_axis),\n",
    "    process(IXI, unitary_reps_3_axis),\n",
    "    process(IIX, unitary_reps_3_axis),\n",
    "    process(YII, unitary_reps_3_axis),\n",
    "    process(IYI, unitary_reps_3_axis),\n",
    "    process(IIY, unitary_reps_3_axis),\n",
    "    process(ZII, unitary_reps_3_axis),\n",
    "    process(IZI, unitary_reps_3_axis),\n",
    "    process(IIZ, unitary_reps_3_axis),\n",
    "]"
   ]
  },
  {
   "cell_type": "code",
   "execution_count": 13,
   "id": "ec809baf-1246-4b1d-ac69-d89cdd340615",
   "metadata": {},
   "outputs": [
    {
     "data": {
      "text/plain": [
       "[(1+0j) * X(0),\n",
       " (1+0j) * X(1),\n",
       " (1+0j) * X(2),\n",
       " (-0.5+0j) * Y(0),\n",
       " (None, None),\n",
       " (None, None),\n",
       " (-0.5+0j) * Z(0),\n",
       " (None, None),\n",
       " (None, None)]"
      ]
     },
     "execution_count": 13,
     "metadata": {},
     "output_type": "execute_result"
    }
   ],
   "source": [
    "[\n",
    "    process(XII, unitary_reps_rot_ref),\n",
    "    process(IXI, unitary_reps_rot_ref),\n",
    "    process(IIX, unitary_reps_rot_ref),\n",
    "    process(YII, unitary_reps_rot_ref),\n",
    "    process(IYI, unitary_reps_rot_ref),\n",
    "    process(IIY, unitary_reps_rot_ref),\n",
    "    process(ZII, unitary_reps_rot_ref),\n",
    "    process(IZI, unitary_reps_rot_ref),\n",
    "    process(IIZ, unitary_reps_rot_ref),\n",
    "]"
   ]
  },
  {
   "cell_type": "code",
   "execution_count": 14,
   "id": "976f1f32-0d94-457e-9838-5f4cb392e38c",
   "metadata": {},
   "outputs": [],
   "source": [
    "zzz_pauli_gen, zzz_gen = process(ZZZ, unitary_reps_3_axis, True)"
   ]
  },
  {
   "cell_type": "code",
   "execution_count": 15,
   "id": "e659e8e3-cbc2-4b39-a3ae-55d5e9c450db",
   "metadata": {},
   "outputs": [
    {
     "data": {
      "text/plain": [
       "array([[1.02006676+0.j        , 0.        +0.20133601j],\n",
       "       [0.        -0.20133601j, 1.02006676+0.j        ]])"
      ]
     },
     "execution_count": 15,
     "metadata": {},
     "output_type": "execute_result"
    }
   ],
   "source": [
    "expm((-0.20000000298023224 + 0j) * qml.Y(0).compute_matrix())"
   ]
  },
  {
   "cell_type": "code",
   "execution_count": 16,
   "id": "66ddd278-5e86-4541-9eae-8be5b6133c50",
   "metadata": {},
   "outputs": [
    {
     "data": {
      "text/plain": [
       "(0.8775825500488281+0j) * I\n",
       "+ -0.4794255495071411j * Z(0) @ Z(1) @ Z(2)"
      ]
     },
     "execution_count": 16,
     "metadata": {},
     "output_type": "execute_result"
    }
   ],
   "source": [
    "zzz_pauli_gen"
   ]
  },
  {
   "cell_type": "code",
   "execution_count": 17,
   "id": "d126c4ae-17b0-4889-8357-e3847e37b1a2",
   "metadata": {},
   "outputs": [],
   "source": [
    "zzz = expm(zzz_gen)"
   ]
  },
  {
   "cell_type": "code",
   "execution_count": 18,
   "id": "5605a535-5d03-4e9e-9961-c70940fa1a9c",
   "metadata": {},
   "outputs": [
    {
     "data": {
      "text/plain": [
       "array([[2.13393-1.1093895j, 0.     +0.j       , 0.     +0.j       ,\n",
       "        0.     +0.j       , 0.     +0.j       , 0.     +0.j       ,\n",
       "        0.     +0.j       , 0.     +0.j       ],\n",
       "       [0.     +0.j       , 2.13393+1.1093895j, 0.     +0.j       ,\n",
       "        0.     +0.j       , 0.     +0.j       , 0.     +0.j       ,\n",
       "        0.     +0.j       , 0.     +0.j       ],\n",
       "       [0.     +0.j       , 0.     +0.j       , 2.13393+1.1093895j,\n",
       "        0.     +0.j       , 0.     +0.j       , 0.     +0.j       ,\n",
       "        0.     +0.j       , 0.     +0.j       ],\n",
       "       [0.     +0.j       , 0.     +0.j       , 0.     +0.j       ,\n",
       "        2.13393-1.1093895j, 0.     +0.j       , 0.     +0.j       ,\n",
       "        0.     +0.j       , 0.     +0.j       ],\n",
       "       [0.     +0.j       , 0.     +0.j       , 0.     +0.j       ,\n",
       "        0.     +0.j       , 2.13393+1.1093895j, 0.     +0.j       ,\n",
       "        0.     +0.j       , 0.     +0.j       ],\n",
       "       [0.     +0.j       , 0.     +0.j       , 0.     +0.j       ,\n",
       "        0.     +0.j       , 0.     +0.j       , 2.13393-1.1093895j,\n",
       "        0.     +0.j       , 0.     +0.j       ],\n",
       "       [0.     +0.j       , 0.     +0.j       , 0.     +0.j       ,\n",
       "        0.     +0.j       , 0.     +0.j       , 0.     +0.j       ,\n",
       "        2.13393-1.1093895j, 0.     +0.j       ],\n",
       "       [0.     +0.j       , 0.     +0.j       , 0.     +0.j       ,\n",
       "        0.     +0.j       , 0.     +0.j       , 0.     +0.j       ,\n",
       "        0.     +0.j       , 2.13393+1.1093895j]], dtype=complex64)"
      ]
     },
     "execution_count": 18,
     "metadata": {},
     "output_type": "execute_result"
    }
   ],
   "source": [
    "zzz"
   ]
  },
  {
   "cell_type": "code",
   "execution_count": 19,
   "id": "5c7ed68a-33d3-426d-806d-a2f6459d6a16",
   "metadata": {},
   "outputs": [],
   "source": [
    "diag = [zzz[i][i] for i in range(len(zzz))]"
   ]
  },
  {
   "cell_type": "code",
   "execution_count": 20,
   "id": "75c2c92e-78ec-4e25-84e0-63ae87f86cd4",
   "metadata": {},
   "outputs": [],
   "source": [
    "assert np.allclose(np.diag(diag), zzz)"
   ]
  },
  {
   "cell_type": "code",
   "execution_count": 21,
   "id": "f4cf00b7-4014-4a03-9be9-9ba20096114a",
   "metadata": {},
   "outputs": [
    {
     "data": {
      "text/plain": [
       "[(2.13393-1.1093895j),\n",
       " (2.13393+1.1093895j),\n",
       " (2.13393+1.1093895j),\n",
       " (2.13393-1.1093895j),\n",
       " (2.13393+1.1093895j),\n",
       " (2.13393-1.1093895j),\n",
       " (2.13393-1.1093895j),\n",
       " (2.13393+1.1093895j)]"
      ]
     },
     "execution_count": 21,
     "metadata": {},
     "output_type": "execute_result"
    }
   ],
   "source": [
    "diag"
   ]
  },
  {
   "cell_type": "code",
   "execution_count": 22,
   "id": "4ada6cc7-f0eb-4e18-8991-a4fb9f206042",
   "metadata": {},
   "outputs": [
    {
     "data": {
      "text/plain": [
       "(2-1j)"
      ]
     },
     "execution_count": 22,
     "metadata": {},
     "output_type": "execute_result"
    }
   ],
   "source": [
    "(1 + 2j) * (-1j)"
   ]
  },
  {
   "cell_type": "code",
   "execution_count": 23,
   "id": "688cb3dc-b919-407e-b18c-547c5e80ca14",
   "metadata": {},
   "outputs": [
    {
     "data": {
      "text/plain": [
       "(0.8775825500488281+0j) * I"
      ]
     },
     "execution_count": 23,
     "metadata": {},
     "output_type": "execute_result"
    }
   ],
   "source": [
    "process(XYZ, unitary_reps_rot_ref)"
   ]
  },
  {
   "cell_type": "markdown",
   "id": "ec5d5fa8-1ead-49c8-a504-3beecbb83779",
   "metadata": {},
   "source": [
    "# Design a circuit"
   ]
  },
  {
   "cell_type": "code",
   "execution_count": 24,
   "id": "379377d2-0683-499d-ad4f-2c83f4a10eef",
   "metadata": {},
   "outputs": [
    {
     "data": {
      "text/plain": [
       "array([[-0.41614684+0.j        ,  0.        -0.90929743j],\n",
       "       [ 0.        -0.90929743j, -0.41614684+0.j        ]])"
      ]
     },
     "execution_count": 24,
     "metadata": {},
     "output_type": "execute_result"
    }
   ],
   "source": [
    "expm(-1j * 2 * qml.X.compute_matrix())"
   ]
  },
  {
   "cell_type": "code",
   "execution_count": 25,
   "id": "692f0ef5-9718-4893-9e56-059676b9dd44",
   "metadata": {},
   "outputs": [
    {
     "data": {
      "text/plain": [
       "array([[-0.41614684+0.j        ,  0.        -0.90929743j],\n",
       "       [ 0.        -0.90929743j, -0.41614684+0.j        ]])"
      ]
     },
     "execution_count": 25,
     "metadata": {},
     "output_type": "execute_result"
    }
   ],
   "source": [
    "qml.RX.compute_matrix(4)"
   ]
  },
  {
   "cell_type": "code",
   "execution_count": 40,
   "id": "26f194f5-b4c9-45f8-9953-6d7dc6dfe40a",
   "metadata": {},
   "outputs": [],
   "source": [
    "def twirling_(ansatz: np.array, unitary_reps: list[np.array]):\n",
    "    generator = np.zeros_like(ansatz, dtype=np.complex64)\n",
    "    ansatz = ansatz.astype(np.complex64)\n",
    "    for unitary_rep in unitary_reps:\n",
    "        twirled = 0.5 * (ansatz + unitary_rep @ ansatz @ unitary_rep.conjugate())\n",
    "        if np.allclose(twirled, np.zeros_like(twirled)):\n",
    "            print(\"All zero\")\n",
    "        else:\n",
    "            print(twirled)\n",
    "            print(qml.pauli_decompose(twirled))\n",
    "        print()"
   ]
  },
  {
   "cell_type": "code",
   "execution_count": 27,
   "id": "1e085697-3063-47cf-80eb-7405ee04969e",
   "metadata": {},
   "outputs": [],
   "source": [
    "def commute_(A: np.array, B: np.array):\n",
    "    return np.allclose(A @ B, B @ A)"
   ]
  },
  {
   "cell_type": "code",
   "execution_count": 28,
   "id": "6b085efb-f820-4f9e-89d4-e5c860e0d2af",
   "metadata": {},
   "outputs": [],
   "source": [
    "for u in unitary_reps_3_axis:\n",
    "    assert commute_(ZZZ, u)"
   ]
  },
  {
   "cell_type": "code",
   "execution_count": 37,
   "id": "d6459590-1979-4310-97e5-bc7aedf6c7a7",
   "metadata": {},
   "outputs": [
    {
     "data": {
      "text/plain": [
       "array([[0.87758256-0.47942554j, 0.        +0.j        ,\n",
       "        0.        +0.j        , 0.        +0.j        ,\n",
       "        0.        +0.j        , 0.        +0.j        ,\n",
       "        0.        +0.j        , 0.        +0.j        ],\n",
       "       [0.        +0.j        , 0.87758256+0.47942554j,\n",
       "        0.        +0.j        , 0.        +0.j        ,\n",
       "        0.        +0.j        , 0.        +0.j        ,\n",
       "        0.        +0.j        , 0.        +0.j        ],\n",
       "       [0.        +0.j        , 0.        +0.j        ,\n",
       "        0.87758256+0.47942554j, 0.        +0.j        ,\n",
       "        0.        +0.j        , 0.        +0.j        ,\n",
       "        0.        +0.j        , 0.        +0.j        ],\n",
       "       [0.        +0.j        , 0.        +0.j        ,\n",
       "        0.        +0.j        , 0.87758256-0.47942554j,\n",
       "        0.        +0.j        , 0.        +0.j        ,\n",
       "        0.        +0.j        , 0.        +0.j        ],\n",
       "       [0.        +0.j        , 0.        +0.j        ,\n",
       "        0.        +0.j        , 0.        +0.j        ,\n",
       "        0.87758256+0.47942554j, 0.        +0.j        ,\n",
       "        0.        +0.j        , 0.        +0.j        ],\n",
       "       [0.        +0.j        , 0.        +0.j        ,\n",
       "        0.        +0.j        , 0.        +0.j        ,\n",
       "        0.        +0.j        , 0.87758256-0.47942554j,\n",
       "        0.        +0.j        , 0.        +0.j        ],\n",
       "       [0.        +0.j        , 0.        +0.j        ,\n",
       "        0.        +0.j        , 0.        +0.j        ,\n",
       "        0.        +0.j        , 0.        +0.j        ,\n",
       "        0.87758256-0.47942554j, 0.        +0.j        ],\n",
       "       [0.        +0.j        , 0.        +0.j        ,\n",
       "        0.        +0.j        , 0.        +0.j        ,\n",
       "        0.        +0.j        , 0.        +0.j        ,\n",
       "        0.        +0.j        , 0.87758256+0.47942554j]])"
      ]
     },
     "execution_count": 37,
     "metadata": {},
     "output_type": "execute_result"
    }
   ],
   "source": [
    "ZZZ"
   ]
  },
  {
   "cell_type": "code",
   "execution_count": 41,
   "id": "af32a2d4-2b75-4c0e-b779-45e6ceca71df",
   "metadata": {},
   "outputs": [
    {
     "name": "stdout",
     "output_type": "stream",
     "text": [
      "0\n",
      "[[0.+0.j 0.+0.j 0.+0.j 0.+0.j 1.+0.j 0.+0.j 0.+0.j 0.+0.j]\n",
      " [0.+0.j 0.+0.j 0.+0.j 0.+0.j 0.+0.j 1.+0.j 0.+0.j 0.+0.j]\n",
      " [0.+0.j 0.+0.j 0.+0.j 0.+0.j 0.+0.j 0.+0.j 1.+0.j 0.+0.j]\n",
      " [0.+0.j 0.+0.j 0.+0.j 0.+0.j 0.+0.j 0.+0.j 0.+0.j 1.+0.j]\n",
      " [1.+0.j 0.+0.j 0.+0.j 0.+0.j 0.+0.j 0.+0.j 0.+0.j 0.+0.j]\n",
      " [0.+0.j 1.+0.j 0.+0.j 0.+0.j 0.+0.j 0.+0.j 0.+0.j 0.+0.j]\n",
      " [0.+0.j 0.+0.j 1.+0.j 0.+0.j 0.+0.j 0.+0.j 0.+0.j 0.+0.j]\n",
      " [0.+0.j 0.+0.j 0.+0.j 1.+0.j 0.+0.j 0.+0.j 0.+0.j 0.+0.j]]\n",
      "1.0 * (X(0) @ I(1) @ I(2))\n",
      "\n",
      "[[0.+0.j 0.+0.j 0.+0.j 0.+0.j 1.+0.j 0.+0.j 0.+0.j 0.+0.j]\n",
      " [0.+0.j 0.+0.j 0.+0.j 0.+0.j 0.+0.j 1.+0.j 0.+0.j 0.+0.j]\n",
      " [0.+0.j 0.+0.j 0.+0.j 0.+0.j 0.+0.j 0.+0.j 1.+0.j 0.+0.j]\n",
      " [0.+0.j 0.+0.j 0.+0.j 0.+0.j 0.+0.j 0.+0.j 0.+0.j 1.+0.j]\n",
      " [1.+0.j 0.+0.j 0.+0.j 0.+0.j 0.+0.j 0.+0.j 0.+0.j 0.+0.j]\n",
      " [0.+0.j 1.+0.j 0.+0.j 0.+0.j 0.+0.j 0.+0.j 0.+0.j 0.+0.j]\n",
      " [0.+0.j 0.+0.j 1.+0.j 0.+0.j 0.+0.j 0.+0.j 0.+0.j 0.+0.j]\n",
      " [0.+0.j 0.+0.j 0.+0.j 1.+0.j 0.+0.j 0.+0.j 0.+0.j 0.+0.j]]\n",
      "1.0 * (X(0) @ I(1) @ I(2))\n",
      "\n",
      "[[0.+0.j 0.+0.j 0.+0.j 0.+0.j 1.+0.j 0.+0.j 0.+0.j 0.+0.j]\n",
      " [0.+0.j 0.+0.j 0.+0.j 0.+0.j 0.+0.j 1.+0.j 0.+0.j 0.+0.j]\n",
      " [0.+0.j 0.+0.j 0.+0.j 0.+0.j 0.+0.j 0.+0.j 1.+0.j 0.+0.j]\n",
      " [0.+0.j 0.+0.j 0.+0.j 0.+0.j 0.+0.j 0.+0.j 0.+0.j 1.+0.j]\n",
      " [1.+0.j 0.+0.j 0.+0.j 0.+0.j 0.+0.j 0.+0.j 0.+0.j 0.+0.j]\n",
      " [0.+0.j 1.+0.j 0.+0.j 0.+0.j 0.+0.j 0.+0.j 0.+0.j 0.+0.j]\n",
      " [0.+0.j 0.+0.j 1.+0.j 0.+0.j 0.+0.j 0.+0.j 0.+0.j 0.+0.j]\n",
      " [0.+0.j 0.+0.j 0.+0.j 1.+0.j 0.+0.j 0.+0.j 0.+0.j 0.+0.j]]\n",
      "1.0 * (X(0) @ I(1) @ I(2))\n",
      "\n",
      "====\n",
      "1\n",
      "[[0.+0.j 0.+0.j 1.+0.j 0.+0.j 0.+0.j 0.+0.j 0.+0.j 0.+0.j]\n",
      " [0.+0.j 0.+0.j 0.+0.j 1.+0.j 0.+0.j 0.+0.j 0.+0.j 0.+0.j]\n",
      " [1.+0.j 0.+0.j 0.+0.j 0.+0.j 0.+0.j 0.+0.j 0.+0.j 0.+0.j]\n",
      " [0.+0.j 1.+0.j 0.+0.j 0.+0.j 0.+0.j 0.+0.j 0.+0.j 0.+0.j]\n",
      " [0.+0.j 0.+0.j 0.+0.j 0.+0.j 0.+0.j 0.+0.j 1.+0.j 0.+0.j]\n",
      " [0.+0.j 0.+0.j 0.+0.j 0.+0.j 0.+0.j 0.+0.j 0.+0.j 1.+0.j]\n",
      " [0.+0.j 0.+0.j 0.+0.j 0.+0.j 1.+0.j 0.+0.j 0.+0.j 0.+0.j]\n",
      " [0.+0.j 0.+0.j 0.+0.j 0.+0.j 0.+0.j 1.+0.j 0.+0.j 0.+0.j]]\n",
      "1.0 * (I(0) @ X(1) @ I(2))\n",
      "\n",
      "[[0.+0.j 0.+0.j 1.+0.j 0.+0.j 0.+0.j 0.+0.j 0.+0.j 0.+0.j]\n",
      " [0.+0.j 0.+0.j 0.+0.j 1.+0.j 0.+0.j 0.+0.j 0.+0.j 0.+0.j]\n",
      " [1.+0.j 0.+0.j 0.+0.j 0.+0.j 0.+0.j 0.+0.j 0.+0.j 0.+0.j]\n",
      " [0.+0.j 1.+0.j 0.+0.j 0.+0.j 0.+0.j 0.+0.j 0.+0.j 0.+0.j]\n",
      " [0.+0.j 0.+0.j 0.+0.j 0.+0.j 0.+0.j 0.+0.j 1.+0.j 0.+0.j]\n",
      " [0.+0.j 0.+0.j 0.+0.j 0.+0.j 0.+0.j 0.+0.j 0.+0.j 1.+0.j]\n",
      " [0.+0.j 0.+0.j 0.+0.j 0.+0.j 1.+0.j 0.+0.j 0.+0.j 0.+0.j]\n",
      " [0.+0.j 0.+0.j 0.+0.j 0.+0.j 0.+0.j 1.+0.j 0.+0.j 0.+0.j]]\n",
      "1.0 * (I(0) @ X(1) @ I(2))\n",
      "\n",
      "[[0.+0.j 0.+0.j 1.+0.j 0.+0.j 0.+0.j 0.+0.j 0.+0.j 0.+0.j]\n",
      " [0.+0.j 0.+0.j 0.+0.j 1.+0.j 0.+0.j 0.+0.j 0.+0.j 0.+0.j]\n",
      " [1.+0.j 0.+0.j 0.+0.j 0.+0.j 0.+0.j 0.+0.j 0.+0.j 0.+0.j]\n",
      " [0.+0.j 1.+0.j 0.+0.j 0.+0.j 0.+0.j 0.+0.j 0.+0.j 0.+0.j]\n",
      " [0.+0.j 0.+0.j 0.+0.j 0.+0.j 0.+0.j 0.+0.j 1.+0.j 0.+0.j]\n",
      " [0.+0.j 0.+0.j 0.+0.j 0.+0.j 0.+0.j 0.+0.j 0.+0.j 1.+0.j]\n",
      " [0.+0.j 0.+0.j 0.+0.j 0.+0.j 1.+0.j 0.+0.j 0.+0.j 0.+0.j]\n",
      " [0.+0.j 0.+0.j 0.+0.j 0.+0.j 0.+0.j 1.+0.j 0.+0.j 0.+0.j]]\n",
      "1.0 * (I(0) @ X(1) @ I(2))\n",
      "\n",
      "====\n",
      "2\n",
      "[[0.+0.j 1.+0.j 0.+0.j 0.+0.j 0.+0.j 0.+0.j 0.+0.j 0.+0.j]\n",
      " [1.+0.j 0.+0.j 0.+0.j 0.+0.j 0.+0.j 0.+0.j 0.+0.j 0.+0.j]\n",
      " [0.+0.j 0.+0.j 0.+0.j 1.+0.j 0.+0.j 0.+0.j 0.+0.j 0.+0.j]\n",
      " [0.+0.j 0.+0.j 1.+0.j 0.+0.j 0.+0.j 0.+0.j 0.+0.j 0.+0.j]\n",
      " [0.+0.j 0.+0.j 0.+0.j 0.+0.j 0.+0.j 1.+0.j 0.+0.j 0.+0.j]\n",
      " [0.+0.j 0.+0.j 0.+0.j 0.+0.j 1.+0.j 0.+0.j 0.+0.j 0.+0.j]\n",
      " [0.+0.j 0.+0.j 0.+0.j 0.+0.j 0.+0.j 0.+0.j 0.+0.j 1.+0.j]\n",
      " [0.+0.j 0.+0.j 0.+0.j 0.+0.j 0.+0.j 0.+0.j 1.+0.j 0.+0.j]]\n",
      "1.0 * (I(0) @ I(1) @ X(2))\n",
      "\n",
      "[[0.+0.j 1.+0.j 0.+0.j 0.+0.j 0.+0.j 0.+0.j 0.+0.j 0.+0.j]\n",
      " [1.+0.j 0.+0.j 0.+0.j 0.+0.j 0.+0.j 0.+0.j 0.+0.j 0.+0.j]\n",
      " [0.+0.j 0.+0.j 0.+0.j 1.+0.j 0.+0.j 0.+0.j 0.+0.j 0.+0.j]\n",
      " [0.+0.j 0.+0.j 1.+0.j 0.+0.j 0.+0.j 0.+0.j 0.+0.j 0.+0.j]\n",
      " [0.+0.j 0.+0.j 0.+0.j 0.+0.j 0.+0.j 1.+0.j 0.+0.j 0.+0.j]\n",
      " [0.+0.j 0.+0.j 0.+0.j 0.+0.j 1.+0.j 0.+0.j 0.+0.j 0.+0.j]\n",
      " [0.+0.j 0.+0.j 0.+0.j 0.+0.j 0.+0.j 0.+0.j 0.+0.j 1.+0.j]\n",
      " [0.+0.j 0.+0.j 0.+0.j 0.+0.j 0.+0.j 0.+0.j 1.+0.j 0.+0.j]]\n",
      "1.0 * (I(0) @ I(1) @ X(2))\n",
      "\n",
      "[[0.+0.j 1.+0.j 0.+0.j 0.+0.j 0.+0.j 0.+0.j 0.+0.j 0.+0.j]\n",
      " [1.+0.j 0.+0.j 0.+0.j 0.+0.j 0.+0.j 0.+0.j 0.+0.j 0.+0.j]\n",
      " [0.+0.j 0.+0.j 0.+0.j 1.+0.j 0.+0.j 0.+0.j 0.+0.j 0.+0.j]\n",
      " [0.+0.j 0.+0.j 1.+0.j 0.+0.j 0.+0.j 0.+0.j 0.+0.j 0.+0.j]\n",
      " [0.+0.j 0.+0.j 0.+0.j 0.+0.j 0.+0.j 1.+0.j 0.+0.j 0.+0.j]\n",
      " [0.+0.j 0.+0.j 0.+0.j 0.+0.j 1.+0.j 0.+0.j 0.+0.j 0.+0.j]\n",
      " [0.+0.j 0.+0.j 0.+0.j 0.+0.j 0.+0.j 0.+0.j 0.+0.j 1.+0.j]\n",
      " [0.+0.j 0.+0.j 0.+0.j 0.+0.j 0.+0.j 0.+0.j 1.+0.j 0.+0.j]]\n",
      "1.0 * (I(0) @ I(1) @ X(2))\n",
      "\n",
      "====\n",
      "3\n",
      "[[0.+0.j 0.+0.j 0.+0.j 0.+0.j 0.-1.j 0.+0.j 0.+0.j 0.+0.j]\n",
      " [0.+0.j 0.+0.j 0.+0.j 0.+0.j 0.+0.j 0.-1.j 0.+0.j 0.+0.j]\n",
      " [0.+0.j 0.+0.j 0.+0.j 0.+0.j 0.+0.j 0.+0.j 0.-1.j 0.+0.j]\n",
      " [0.+0.j 0.+0.j 0.+0.j 0.+0.j 0.+0.j 0.+0.j 0.+0.j 0.-1.j]\n",
      " [0.+1.j 0.+0.j 0.+0.j 0.+0.j 0.+0.j 0.+0.j 0.+0.j 0.+0.j]\n",
      " [0.+0.j 0.+1.j 0.+0.j 0.+0.j 0.+0.j 0.+0.j 0.+0.j 0.+0.j]\n",
      " [0.+0.j 0.+0.j 0.+1.j 0.+0.j 0.+0.j 0.+0.j 0.+0.j 0.+0.j]\n",
      " [0.+0.j 0.+0.j 0.+0.j 0.+1.j 0.+0.j 0.+0.j 0.+0.j 0.+0.j]]\n",
      "1.0 * (Y(0) @ I(1) @ I(2))\n",
      "\n",
      "All zero\n",
      "\n",
      "All zero\n",
      "\n",
      "====\n",
      "4\n",
      "All zero\n",
      "\n",
      "[[0.+0.j 0.+0.j 0.-1.j 0.+0.j 0.+0.j 0.+0.j 0.+0.j 0.+0.j]\n",
      " [0.+0.j 0.+0.j 0.+0.j 0.-1.j 0.+0.j 0.+0.j 0.+0.j 0.+0.j]\n",
      " [0.+1.j 0.+0.j 0.+0.j 0.+0.j 0.+0.j 0.+0.j 0.+0.j 0.+0.j]\n",
      " [0.+0.j 0.+1.j 0.+0.j 0.+0.j 0.+0.j 0.+0.j 0.+0.j 0.+0.j]\n",
      " [0.+0.j 0.+0.j 0.+0.j 0.+0.j 0.+0.j 0.+0.j 0.-1.j 0.+0.j]\n",
      " [0.+0.j 0.+0.j 0.+0.j 0.+0.j 0.+0.j 0.+0.j 0.+0.j 0.-1.j]\n",
      " [0.+0.j 0.+0.j 0.+0.j 0.+0.j 0.+1.j 0.+0.j 0.+0.j 0.+0.j]\n",
      " [0.+0.j 0.+0.j 0.+0.j 0.+0.j 0.+0.j 0.+1.j 0.+0.j 0.+0.j]]\n",
      "1.0 * (I(0) @ Y(1) @ I(2))\n",
      "\n",
      "All zero\n",
      "\n",
      "====\n",
      "5\n",
      "All zero\n",
      "\n",
      "All zero\n",
      "\n",
      "[[0.+0.j 0.-1.j 0.+0.j 0.+0.j 0.+0.j 0.+0.j 0.+0.j 0.+0.j]\n",
      " [0.+1.j 0.+0.j 0.+0.j 0.+0.j 0.+0.j 0.+0.j 0.+0.j 0.+0.j]\n",
      " [0.+0.j 0.+0.j 0.+0.j 0.-1.j 0.+0.j 0.+0.j 0.+0.j 0.+0.j]\n",
      " [0.+0.j 0.+0.j 0.+1.j 0.+0.j 0.+0.j 0.+0.j 0.+0.j 0.+0.j]\n",
      " [0.+0.j 0.+0.j 0.+0.j 0.+0.j 0.+0.j 0.-1.j 0.+0.j 0.+0.j]\n",
      " [0.+0.j 0.+0.j 0.+0.j 0.+0.j 0.+1.j 0.+0.j 0.+0.j 0.+0.j]\n",
      " [0.+0.j 0.+0.j 0.+0.j 0.+0.j 0.+0.j 0.+0.j 0.+0.j 0.-1.j]\n",
      " [0.+0.j 0.+0.j 0.+0.j 0.+0.j 0.+0.j 0.+0.j 0.+1.j 0.+0.j]]\n",
      "1.0 * (I(0) @ I(1) @ Y(2))\n",
      "\n",
      "====\n",
      "6\n",
      "[[ 1.+0.j  0.+0.j  0.+0.j  0.+0.j  0.+0.j  0.+0.j  0.+0.j  0.+0.j]\n",
      " [ 0.+0.j  1.+0.j  0.+0.j  0.+0.j  0.+0.j  0.+0.j  0.+0.j  0.+0.j]\n",
      " [ 0.+0.j  0.+0.j  1.+0.j  0.+0.j  0.+0.j  0.+0.j  0.+0.j  0.+0.j]\n",
      " [ 0.+0.j  0.+0.j  0.+0.j  1.+0.j  0.+0.j  0.+0.j  0.+0.j  0.+0.j]\n",
      " [ 0.+0.j  0.+0.j  0.+0.j  0.+0.j -1.+0.j  0.+0.j  0.+0.j  0.+0.j]\n",
      " [ 0.+0.j  0.+0.j  0.+0.j  0.+0.j  0.+0.j -1.+0.j  0.+0.j  0.+0.j]\n",
      " [ 0.+0.j  0.+0.j  0.+0.j  0.+0.j  0.+0.j  0.+0.j -1.+0.j  0.+0.j]\n",
      " [ 0.+0.j  0.+0.j  0.+0.j  0.+0.j  0.+0.j  0.+0.j  0.+0.j -1.+0.j]]\n",
      "1.0 * (Z(0) @ I(1) @ I(2))\n",
      "\n",
      "All zero\n",
      "\n",
      "All zero\n",
      "\n",
      "====\n",
      "7\n",
      "All zero\n",
      "\n",
      "[[ 1.+0.j  0.+0.j  0.+0.j  0.+0.j  0.+0.j  0.+0.j  0.+0.j  0.+0.j]\n",
      " [ 0.+0.j  1.+0.j  0.+0.j  0.+0.j  0.+0.j  0.+0.j  0.+0.j  0.+0.j]\n",
      " [ 0.+0.j  0.+0.j -1.+0.j  0.+0.j  0.+0.j  0.+0.j  0.+0.j  0.+0.j]\n",
      " [ 0.+0.j  0.+0.j  0.+0.j -1.+0.j  0.+0.j  0.+0.j  0.+0.j  0.+0.j]\n",
      " [ 0.+0.j  0.+0.j  0.+0.j  0.+0.j  1.+0.j  0.+0.j  0.+0.j  0.+0.j]\n",
      " [ 0.+0.j  0.+0.j  0.+0.j  0.+0.j  0.+0.j  1.+0.j  0.+0.j  0.+0.j]\n",
      " [ 0.+0.j  0.+0.j  0.+0.j  0.+0.j  0.+0.j  0.+0.j -1.+0.j  0.+0.j]\n",
      " [ 0.+0.j  0.+0.j  0.+0.j  0.+0.j  0.+0.j  0.+0.j  0.+0.j -1.+0.j]]\n",
      "1.0 * (I(0) @ Z(1) @ I(2))\n",
      "\n",
      "All zero\n",
      "\n",
      "====\n",
      "8\n",
      "All zero\n",
      "\n",
      "All zero\n",
      "\n",
      "[[ 1.+0.j  0.+0.j  0.+0.j  0.+0.j  0.+0.j  0.+0.j  0.+0.j  0.+0.j]\n",
      " [ 0.+0.j -1.+0.j  0.+0.j  0.+0.j  0.+0.j  0.+0.j  0.+0.j  0.+0.j]\n",
      " [ 0.+0.j  0.+0.j  1.+0.j  0.+0.j  0.+0.j  0.+0.j  0.+0.j  0.+0.j]\n",
      " [ 0.+0.j  0.+0.j  0.+0.j -1.+0.j  0.+0.j  0.+0.j  0.+0.j  0.+0.j]\n",
      " [ 0.+0.j  0.+0.j  0.+0.j  0.+0.j  1.+0.j  0.+0.j  0.+0.j  0.+0.j]\n",
      " [ 0.+0.j  0.+0.j  0.+0.j  0.+0.j  0.+0.j -1.+0.j  0.+0.j  0.+0.j]\n",
      " [ 0.+0.j  0.+0.j  0.+0.j  0.+0.j  0.+0.j  0.+0.j  1.+0.j  0.+0.j]\n",
      " [ 0.+0.j  0.+0.j  0.+0.j  0.+0.j  0.+0.j  0.+0.j  0.+0.j -1.+0.j]]\n",
      "1.0 * (I(0) @ I(1) @ Z(2))\n",
      "\n",
      "====\n"
     ]
    }
   ],
   "source": [
    "all_gates = [XII, IXI, IIX, YII, IYI, IIY, ZII, IZI, IIZ]\n",
    "for i, gate in enumerate(all_gates):\n",
    "    print(i)\n",
    "    twirling_(gate, unitary_reps_3_axis)\n",
    "    print(\"====\")"
   ]
  },
  {
   "cell_type": "code",
   "execution_count": 54,
   "id": "ad47ca07-09e5-4829-b79a-53abf150d36e",
   "metadata": {},
   "outputs": [
    {
     "data": {
      "text/plain": [
       "array([[0.+1.j, 0.+0.j],\n",
       "       [0.+0.j, 0.-1.j]])"
      ]
     },
     "execution_count": 54,
     "metadata": {},
     "output_type": "execute_result"
    }
   ],
   "source": [
    "a = qml.X(0) @ qml.Y(0)\n",
    "qml.matrix(a)"
   ]
  },
  {
   "cell_type": "code",
   "execution_count": 51,
   "id": "f290bac7-207d-4837-b882-be79add43584",
   "metadata": {},
   "outputs": [
    {
     "data": {
      "text/plain": [
       "array([[0.+0.j, 0.+0.j, 0.+0.j, 1.+0.j],\n",
       "       [0.+0.j, 0.+0.j, 1.+0.j, 0.+0.j],\n",
       "       [0.+0.j, 1.+0.j, 0.+0.j, 0.+0.j],\n",
       "       [1.+0.j, 0.+0.j, 0.+0.j, 0.+0.j]])"
      ]
     },
     "execution_count": 51,
     "metadata": {},
     "output_type": "execute_result"
    }
   ],
   "source": []
  },
  {
   "cell_type": "code",
   "execution_count": 59,
   "id": "36c80b74-3e74-4ef3-b399-c0993fa8db33",
   "metadata": {},
   "outputs": [
    {
     "data": {
      "text/plain": [
       "(16, 16)"
      ]
     },
     "execution_count": 59,
     "metadata": {},
     "output_type": "execute_result"
    }
   ],
   "source": [
    "qml.MultiRZ.compute_matrix(1, 4).shape"
   ]
  }
 ],
 "metadata": {
  "kernelspec": {
   "display_name": "Python 3 (ipykernel)",
   "language": "python",
   "name": "python3"
  },
  "language_info": {
   "codemirror_mode": {
    "name": "ipython",
    "version": 3
   },
   "file_extension": ".py",
   "mimetype": "text/x-python",
   "name": "python",
   "nbconvert_exporter": "python",
   "pygments_lexer": "ipython3",
   "version": "3.11.9"
  }
 },
 "nbformat": 4,
 "nbformat_minor": 5
}
