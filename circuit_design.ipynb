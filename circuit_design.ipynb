{
 "cells": [
  {
   "cell_type": "code",
   "execution_count": 1,
   "id": "f570d53d-8d0d-430f-94c0-1c0c51386090",
   "metadata": {},
   "outputs": [],
   "source": [
    "import functools\n",
    "\n",
    "import numpy as np\n",
    "import pennylane as qml\n",
    "from scipy.linalg import expm\n",
    "\n",
    "from graddft_qnn.dft_qnn import DFTQNN\n",
    "from graddft_qnn.unitary_rep import O_h"
   ]
  },
  {
   "cell_type": "markdown",
   "id": "bef7c9db-5863-4510-bfff-461adfe344b5",
   "metadata": {},
   "source": [
    "# Defining"
   ]
  },
  {
   "cell_type": "code",
   "execution_count": 2,
   "id": "87342a1b-5891-478e-b4ea-11a7370c05ea",
   "metadata": {},
   "outputs": [],
   "source": [
    "unitary_reps = [O_h._180_deg_rot()]"
   ]
  },
  {
   "cell_type": "code",
   "execution_count": 15,
   "id": "154934be-9e7e-4a83-989e-ad4524dcf3a7",
   "metadata": {},
   "outputs": [
    {
     "data": {
      "text/plain": [
       "[array([[0., 0., 0., 0., 0., 0., 1., 0.],\n",
       "        [0., 0., 0., 0., 0., 0., 0., 1.],\n",
       "        [0., 0., 0., 0., 1., 0., 0., 0.],\n",
       "        [0., 0., 0., 0., 0., 1., 0., 0.],\n",
       "        [0., 0., 1., 0., 0., 0., 0., 0.],\n",
       "        [0., 0., 0., 1., 0., 0., 0., 0.],\n",
       "        [1., 0., 0., 0., 0., 0., 0., 0.],\n",
       "        [0., 1., 0., 0., 0., 0., 0., 0.]])]"
      ]
     },
     "execution_count": 15,
     "metadata": {},
     "output_type": "execute_result"
    }
   ],
   "source": [
    "unitary_reps"
   ]
  },
  {
   "cell_type": "code",
   "execution_count": 3,
   "id": "9452a0b1-9c9a-4aec-bf05-7bab7734ca65",
   "metadata": {},
   "outputs": [],
   "source": [
    "XII = functools.reduce(np.kron, [qml.X.compute_matrix(), np.eye(2), np.eye(2)])\n",
    "IXI = functools.reduce(np.kron, [np.eye(2), qml.X.compute_matrix(), np.eye(2)])\n",
    "IIX = functools.reduce(np.kron, [np.eye(2), np.eye(2), qml.X.compute_matrix()])"
   ]
  },
  {
   "cell_type": "code",
   "execution_count": 4,
   "id": "0612de6a-42c6-421f-aa48-ca7e13c570d3",
   "metadata": {},
   "outputs": [],
   "source": [
    "YII = functools.reduce(np.kron, [qml.Y.compute_matrix(), np.eye(2), np.eye(2)])\n",
    "IYI = functools.reduce(np.kron, [np.eye(2), qml.Y.compute_matrix(), np.eye(2)])\n",
    "IIY = functools.reduce(np.kron, [np.eye(2), np.eye(2), qml.Y.compute_matrix()])"
   ]
  },
  {
   "cell_type": "code",
   "execution_count": 5,
   "id": "9e0e4ab7-c51d-40df-9e11-741f2e1f9e79",
   "metadata": {},
   "outputs": [],
   "source": [
    "ZII = functools.reduce(np.kron, [qml.Z.compute_matrix(), np.eye(2), np.eye(2)])\n",
    "IZI = functools.reduce(np.kron, [np.eye(2), qml.Z.compute_matrix(), np.eye(2)])\n",
    "IIZ = functools.reduce(np.kron, [np.eye(2), np.eye(2), qml.Z.compute_matrix()])"
   ]
  },
  {
   "cell_type": "markdown",
   "id": "62b07c6e-d299-4a42-9f3a-dd8ad1e3df68",
   "metadata": {},
   "source": [
    "$$\n",
    "ZZ(\\phi) = \\exp\\left(-i \\frac{\\phi}{2} (Z \\otimes Z)\\right) =\n",
    "\\begin{bmatrix}\n",
    "    e^{-i \\phi / 2} & 0 & 0 & 0 \\\\\n",
    "    0 & e^{i \\phi / 2} & 0 & 0 \\\\\n",
    "    0 & 0 & e^{i \\phi / 2} & 0 \\\\\n",
    "    0 & 0 & 0 & e^{-i \\phi / 2}\n",
    "\\end{bmatrix}\n",
    "$$\n",
    "\n",
    "$ZZ(0) = I$"
   ]
  },
  {
   "cell_type": "code",
   "execution_count": 21,
   "id": "960fde91-5220-4bf7-b629-9d2ca60e528c",
   "metadata": {},
   "outputs": [],
   "source": [
    "ZZZ_gen = -1j * np.pi / 3 * functools.reduce(np.kron, [qml.Z.compute_matrix(), qml.Z.compute_matrix(), qml.Z.compute_matrix()])"
   ]
  },
  {
   "cell_type": "code",
   "execution_count": 22,
   "id": "a8c06f19-c373-407c-b583-d5eb95e26132",
   "metadata": {},
   "outputs": [],
   "source": [
    "ZZZ = expm(ZZZ_gen)"
   ]
  },
  {
   "cell_type": "code",
   "execution_count": 7,
   "id": "bc432866-4f29-42ab-bd3a-9f48d929ea98",
   "metadata": {},
   "outputs": [],
   "source": [
    "def process(gate_matrix, u_reprs: list[np.array]):\n",
    "    gate_matrix = gate_matrix.astype(np.complex64)\n",
    "    gen = DFTQNN.twirling(gate_matrix, unitary_reps=u_reprs)\n",
    "    gate = expm(-1j * gen)\n",
    "    return qml.pauli_decompose(\n",
    "        gate, check_hermitian=False, hide_identity=True, pauli=True\n",
    "    )"
   ]
  },
  {
   "cell_type": "markdown",
   "id": "a66bc8f9-5824-467f-9f8a-633e2e29294b",
   "metadata": {},
   "source": [
    "# Run the twirling + generator"
   ]
  },
  {
   "cell_type": "code",
   "execution_count": 8,
   "id": "f4c72a8c-8d30-449c-a068-93c32cf72486",
   "metadata": {},
   "outputs": [
    {
     "data": {
      "text/plain": [
       "((0.5403022766113281+0j) * I\n",
       " + -0.8414709568023682j * X(0),\n",
       " (0.5403022766113281+0j) * I\n",
       " + -0.8414709568023682j * X(1),\n",
       " (0.5403022766113281+0j) * I\n",
       " + -0.8414709568023682j * X(2))"
      ]
     },
     "execution_count": 8,
     "metadata": {},
     "output_type": "execute_result"
    }
   ],
   "source": [
    "process(XII, unitary_reps), process(IXI, unitary_reps), process(IIX, unitary_reps)"
   ]
  },
  {
   "cell_type": "code",
   "execution_count": 9,
   "id": "a3c50359-313c-4647-9691-8dd3978bc6f6",
   "metadata": {},
   "outputs": [
    {
     "data": {
      "text/plain": [
       "((0.5403022766113281+0j) * I\n",
       " + 0.8414709568023682j * Y(0),\n",
       " (0.5403022766113281+0j) * I\n",
       " + 0.8414709568023682j * Y(1),\n",
       " (0.5403022766113281+0j) * I\n",
       " + (-0-0.8414709568023682j) * Y(2))"
      ]
     },
     "execution_count": 9,
     "metadata": {},
     "output_type": "execute_result"
    }
   ],
   "source": [
    "process(YII, unitary_reps), process(IYI, unitary_reps), process(IIY, unitary_reps)"
   ]
  },
  {
   "cell_type": "code",
   "execution_count": 14,
   "id": "531c439e-f291-42f2-9475-58a0fe157b71",
   "metadata": {},
   "outputs": [
    {
     "data": {
      "text/plain": [
       "((0.5403022766113281+0j) * I\n",
       " + 0.8414709568023682j * Y(0),\n",
       " (0.5403022766113281+0j) * I\n",
       " + 0.8414709568023682j * Y(1),\n",
       " (0.5403022766113281+0j) * I\n",
       " + (-0-0.8414709568023682j) * Y(2))"
      ]
     },
     "execution_count": 14,
     "metadata": {},
     "output_type": "execute_result"
    }
   ],
   "source": [
    "process(YII, unitary_reps), process(IYI, unitary_reps), process(IIY, unitary_reps)"
   ]
  },
  {
   "cell_type": "code",
   "execution_count": 11,
   "id": "5773b115-b767-471a-a20c-b309b0c101be",
   "metadata": {},
   "outputs": [
    {
     "data": {
      "text/plain": [
       "((0.5403022766113281+0j) * I\n",
       " + 0.8414709568023682j * Z(0),\n",
       " (0.5403022766113281+0j) * I\n",
       " + 0.8414709568023682j * Z(1),\n",
       " (0.5403022766113281+0j) * I\n",
       " + -0.8414709568023682j * Z(2))"
      ]
     },
     "execution_count": 11,
     "metadata": {},
     "output_type": "execute_result"
    }
   ],
   "source": [
    "process(ZII, unitary_reps), process(IZI, unitary_reps), process(IIZ, unitary_reps)"
   ]
  },
  {
   "cell_type": "markdown",
   "id": "d06b1224-fe40-4ac1-8d72-dca2df8f822c",
   "metadata": {},
   "source": [
    "### A funny case"
   ]
  },
  {
   "cell_type": "code",
   "execution_count": 17,
   "id": "98092d60-0f04-417e-9dd2-5fdd18e7bb11",
   "metadata": {},
   "outputs": [],
   "source": [
    "circuit = [\n",
    "    qml.X.compute_matrix() @ qml.Y.compute_matrix() @ qml.Z.compute_matrix(),\n",
    "    qml.X.compute_matrix() @ qml.Y.compute_matrix() @ qml.Z.compute_matrix(),\n",
    "    qml.X.compute_matrix() @ qml.Y.compute_matrix() @ qml.Z.compute_matrix(),\n",
    "]"
   ]
  },
  {
   "cell_type": "code",
   "execution_count": 19,
   "id": "379377d2-0683-499d-ad4f-2c83f4a10eef",
   "metadata": {},
   "outputs": [],
   "source": [
    "circuit_matrix = functools.reduce(np.kron, circuit)"
   ]
  },
  {
   "cell_type": "code",
   "execution_count": 20,
   "id": "46b6b213-e9ff-4a6e-b5cc-8d945f9a8388",
   "metadata": {},
   "outputs": [
    {
     "data": {
      "text/plain": [
       "-1j * I"
      ]
     },
     "execution_count": 20,
     "metadata": {},
     "output_type": "execute_result"
    }
   ],
   "source": [
    "qml.pauli_decompose(\n",
    "    circuit_matrix, check_hermitian=False, hide_identity=True, pauli=True\n",
    ")"
   ]
  },
  {
   "cell_type": "markdown",
   "id": "c8c2a702-bd2d-411d-98ee-530cb7491a6f",
   "metadata": {},
   "source": [
    "### Fix the case\n",
    "\n",
    "By adding $ZZZ$"
   ]
  },
  {
   "cell_type": "code",
   "execution_count": 23,
   "id": "233f4dd3-d7d1-474c-a5a8-715843de8d99",
   "metadata": {},
   "outputs": [
    {
     "data": {
      "text/plain": [
       "(1.2277654856443405-0.6707313656806946j) * I\n",
       "+ (-0.8586366921663284+0.46907538175582886j) * Z(0) @ Z(1) @ Z(2)"
      ]
     },
     "execution_count": 23,
     "metadata": {},
     "output_type": "execute_result"
    }
   ],
   "source": [
    "process(ZZZ, unitary_reps)"
   ]
  },
  {
   "cell_type": "markdown",
   "id": "36dde431-16bb-46b1-8d10-2a2813b6b315",
   "metadata": {},
   "source": [
    "https://quantumcomputing.stackexchange.com/questions/13740/how-to-implement-linear-combination-of-two-unitary-gates-in-a-quantum-circuit"
   ]
  }
 ],
 "metadata": {
  "kernelspec": {
   "display_name": "Python 3 (ipykernel)",
   "language": "python",
   "name": "python3"
  },
  "language_info": {
   "codemirror_mode": {
    "name": "ipython",
    "version": 3
   },
   "file_extension": ".py",
   "mimetype": "text/x-python",
   "name": "python",
   "nbconvert_exporter": "python",
   "pygments_lexer": "ipython3",
   "version": "3.11.9"
  }
 },
 "nbformat": 4,
 "nbformat_minor": 5
}
