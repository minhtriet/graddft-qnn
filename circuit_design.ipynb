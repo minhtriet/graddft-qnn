{
 "cells": [
  {
   "cell_type": "code",
   "execution_count": 1,
   "id": "f570d53d-8d0d-430f-94c0-1c0c51386090",
   "metadata": {},
   "outputs": [],
   "source": [
    "import functools\n",
    "\n",
    "import numpy as np\n",
    "import pennylane as qml\n",
    "from scipy.linalg import expm\n",
    "\n",
    "from graddft_qnn.dft_qnn import DFTQNN\n",
    "from graddft_qnn.unitary_rep import O_h"
   ]
  },
  {
   "cell_type": "markdown",
   "id": "bef7c9db-5863-4510-bfff-461adfe344b5",
   "metadata": {},
   "source": [
    "# Defining..."
   ]
  },
  {
   "cell_type": "markdown",
   "id": "3baf6bec-98df-40bc-9c9f-7b63c495aa0a",
   "metadata": {},
   "source": [
    "## Unitary reps"
   ]
  },
  {
   "cell_type": "code",
   "execution_count": 2,
   "id": "87342a1b-5891-478e-b4ea-11a7370c05ea",
   "metadata": {},
   "outputs": [],
   "source": [
    "unitary_reps = O_h._180_deg_rot()"
   ]
  },
  {
   "cell_type": "code",
   "execution_count": 3,
   "id": "154934be-9e7e-4a83-989e-ad4524dcf3a7",
   "metadata": {},
   "outputs": [
    {
     "data": {
      "text/plain": [
       "[array([[0, 0, 0, 0, 0, 0, 1, 0],\n",
       "        [0, 0, 0, 0, 0, 0, 0, 1],\n",
       "        [0, 0, 0, 0, 1, 0, 0, 0],\n",
       "        [0, 0, 0, 0, 0, 1, 0, 0],\n",
       "        [0, 0, 1, 0, 0, 0, 0, 0],\n",
       "        [0, 0, 0, 1, 0, 0, 0, 0],\n",
       "        [1, 0, 0, 0, 0, 0, 0, 0],\n",
       "        [0, 1, 0, 0, 0, 0, 0, 0]]),\n",
       " array([[1., 0., 0., 0., 0., 0., 0., 0.],\n",
       "        [0., 1., 0., 0., 0., 0., 0., 0.],\n",
       "        [0., 0., 1., 0., 0., 0., 0., 0.],\n",
       "        [0., 0., 0., 1., 0., 0., 0., 0.],\n",
       "        [0., 0., 0., 0., 1., 0., 0., 0.],\n",
       "        [0., 0., 0., 0., 0., 1., 0., 0.],\n",
       "        [0., 0., 0., 0., 0., 0., 1., 0.],\n",
       "        [0., 0., 0., 0., 0., 0., 0., 1.]])]"
      ]
     },
     "execution_count": 3,
     "metadata": {},
     "output_type": "execute_result"
    }
   ],
   "source": [
    "unitary_reps"
   ]
  },
  {
   "cell_type": "markdown",
   "id": "266cd443-7344-4051-a890-a2881449371c",
   "metadata": {},
   "source": [
    "## Ansatz"
   ]
  },
  {
   "cell_type": "code",
   "execution_count": 4,
   "id": "9452a0b1-9c9a-4aec-bf05-7bab7734ca65",
   "metadata": {},
   "outputs": [],
   "source": [
    "XII = functools.reduce(np.kron, [qml.X.compute_matrix(), np.eye(2), np.eye(2)])\n",
    "IXI = functools.reduce(np.kron, [np.eye(2), qml.X.compute_matrix(), np.eye(2)])\n",
    "IIX = functools.reduce(np.kron, [np.eye(2), np.eye(2), qml.X.compute_matrix()])"
   ]
  },
  {
   "cell_type": "code",
   "execution_count": 5,
   "id": "0612de6a-42c6-421f-aa48-ca7e13c570d3",
   "metadata": {},
   "outputs": [],
   "source": [
    "YII = functools.reduce(np.kron, [qml.Y.compute_matrix(), np.eye(2), np.eye(2)])\n",
    "IYI = functools.reduce(np.kron, [np.eye(2), qml.Y.compute_matrix(), np.eye(2)])\n",
    "IIY = functools.reduce(np.kron, [np.eye(2), np.eye(2), qml.Y.compute_matrix()])"
   ]
  },
  {
   "cell_type": "code",
   "execution_count": 6,
   "id": "9e0e4ab7-c51d-40df-9e11-741f2e1f9e79",
   "metadata": {},
   "outputs": [],
   "source": [
    "ZII = functools.reduce(np.kron, [qml.Z.compute_matrix(), np.eye(2), np.eye(2)])\n",
    "IZI = functools.reduce(np.kron, [np.eye(2), qml.Z.compute_matrix(), np.eye(2)])\n",
    "IIZ = functools.reduce(np.kron, [np.eye(2), np.eye(2), qml.Z.compute_matrix()])"
   ]
  },
  {
   "cell_type": "markdown",
   "id": "62b07c6e-d299-4a42-9f3a-dd8ad1e3df68",
   "metadata": {},
   "source": [
    "$$\n",
    "ZZ(\\phi) = \\exp\\left(-i \\frac{\\phi}{2} (Z \\otimes Z)\\right) =\n",
    "\\begin{bmatrix}\n",
    "    e^{-i \\phi / 2} & 0 & 0 & 0 \\\\\n",
    "    0 & e^{i \\phi / 2} & 0 & 0 \\\\\n",
    "    0 & 0 & e^{i \\phi / 2} & 0 \\\\\n",
    "    0 & 0 & 0 & e^{-i \\phi / 2}\n",
    "\\end{bmatrix}\n",
    "$$\n",
    "\n",
    "$ZZ(0) = I$"
   ]
  },
  {
   "cell_type": "code",
   "execution_count": 7,
   "id": "960fde91-5220-4bf7-b629-9d2ca60e528c",
   "metadata": {},
   "outputs": [],
   "source": [
    "ZZZ_gen = (\n",
    "    -1j\n",
    "    * np.pi\n",
    "    / 3\n",
    "    * functools.reduce(\n",
    "        np.kron,\n",
    "        [qml.Z.compute_matrix(), qml.Z.compute_matrix(), qml.Z.compute_matrix()],\n",
    "    )\n",
    ")"
   ]
  },
  {
   "cell_type": "markdown",
   "id": "8d10a311-8502-4484-b579-d3c07a9c8540",
   "metadata": {},
   "source": [
    "expm(-1 theta X) exmp(-1 theta Z) -> measurement XZ\n",
    "any output of the twirling is measurement, and generator"
   ]
  },
  {
   "cell_type": "code",
   "execution_count": 8,
   "id": "a8c06f19-c373-407c-b583-d5eb95e26132",
   "metadata": {},
   "outputs": [],
   "source": [
    "ZZZ = expm(ZZZ_gen)"
   ]
  },
  {
   "cell_type": "code",
   "execution_count": 9,
   "id": "bc432866-4f29-42ab-bd3a-9f48d929ea98",
   "metadata": {},
   "outputs": [],
   "source": [
    "def process(gate_matrix, u_reprs: list[np.array]):\n",
    "    gen = DFTQNN.twirling(gate_matrix, unitary_reps=u_reprs)\n",
    "    if isinstance(gen, np.ndarray):\n",
    "        return qml.pauli_decompose(\n",
    "            gen, check_hermitian=False, hide_identity=True, pauli=True\n",
    "        )\n",
    "    return None"
   ]
  },
  {
   "cell_type": "markdown",
   "id": "a66bc8f9-5824-467f-9f8a-633e2e29294b",
   "metadata": {},
   "source": [
    "# Run the twirling + generator"
   ]
  },
  {
   "cell_type": "code",
   "execution_count": 10,
   "id": "f4c72a8c-8d30-449c-a068-93c32cf72486",
   "metadata": {},
   "outputs": [
    {
     "data": {
      "text/plain": [
       "((1+0j) * X(0), (1+0j) * X(1), (1+0j) * X(2))"
      ]
     },
     "execution_count": 10,
     "metadata": {},
     "output_type": "execute_result"
    }
   ],
   "source": [
    "process(XII, unitary_reps), process(IXI, unitary_reps), process(IIX, unitary_reps)"
   ]
  },
  {
   "cell_type": "code",
   "execution_count": 11,
   "id": "ec809baf-1246-4b1d-ac69-d89cdd340615",
   "metadata": {},
   "outputs": [
    {
     "data": {
      "text/plain": [
       "(None, None, (1+0j) * Y(2))"
      ]
     },
     "execution_count": 11,
     "metadata": {},
     "output_type": "execute_result"
    }
   ],
   "source": [
    "process(YII, unitary_reps), process(IYI, unitary_reps), process(IIY, unitary_reps)"
   ]
  },
  {
   "cell_type": "code",
   "execution_count": 12,
   "id": "5773b115-b767-471a-a20c-b309b0c101be",
   "metadata": {},
   "outputs": [
    {
     "data": {
      "text/plain": [
       "(None, None, (1+0j) * Z(2))"
      ]
     },
     "execution_count": 12,
     "metadata": {},
     "output_type": "execute_result"
    }
   ],
   "source": [
    "process(ZII, unitary_reps), process(IZI, unitary_reps), process(IIZ, unitary_reps)"
   ]
  },
  {
   "cell_type": "markdown",
   "id": "ec5d5fa8-1ead-49c8-a504-3beecbb83779",
   "metadata": {},
   "source": [
    "# Design a circuit"
   ]
  },
  {
   "cell_type": "code",
   "execution_count": 13,
   "id": "379377d2-0683-499d-ad4f-2c83f4a10eef",
   "metadata": {},
   "outputs": [
    {
     "data": {
      "text/plain": [
       "array([[-0.41614684+0.j        ,  0.        -0.90929743j],\n",
       "       [ 0.        -0.90929743j, -0.41614684+0.j        ]])"
      ]
     },
     "execution_count": 13,
     "metadata": {},
     "output_type": "execute_result"
    }
   ],
   "source": [
    "expm(-1j * 2 * qml.X.compute_matrix())"
   ]
  },
  {
   "cell_type": "code",
   "execution_count": 14,
   "id": "692f0ef5-9718-4893-9e56-059676b9dd44",
   "metadata": {},
   "outputs": [
    {
     "data": {
      "text/plain": [
       "array([[-0.41614684+0.j        ,  0.        -0.90929743j],\n",
       "       [ 0.        -0.90929743j, -0.41614684+0.j        ]])"
      ]
     },
     "execution_count": 14,
     "metadata": {},
     "output_type": "execute_result"
    }
   ],
   "source": [
    "qml.RX.compute_matrix(4)"
   ]
  }
 ],
 "metadata": {
  "kernelspec": {
   "display_name": "Python 3 (ipykernel)",
   "language": "python",
   "name": "python3"
  },
  "language_info": {
   "codemirror_mode": {
    "name": "ipython",
    "version": 3
   },
   "file_extension": ".py",
   "mimetype": "text/x-python",
   "name": "python",
   "nbconvert_exporter": "python",
   "pygments_lexer": "ipython3",
   "version": "3.11.9"
  }
 },
 "nbformat": 4,
 "nbformat_minor": 5
}
