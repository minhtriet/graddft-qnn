{
 "cells": [
  {
   "cell_type": "code",
   "execution_count": 1,
   "id": "2aa2706e-182b-4a84-a967-afb60b517160",
   "metadata": {},
   "outputs": [],
   "source": [
    "import sympy as sp\n",
    "from sympy.physics.quantum import TensorProduct\n",
    "import numpy as np\n",
    "\n",
    "# Define the symbols\n",
    "x1, x2 = sp.symbols(\"x1 x2\")\n",
    "\n",
    "# Define the RZ matrices\n",
    "RZ_x1 = sp.Matrix([[sp.exp(-sp.I * x1 / 2), 0], [0, sp.exp(sp.I * x1 / 2)]])\n",
    "RZ_x2 = sp.Matrix([[sp.exp(-sp.I * x2 / 2), 0], [0, sp.exp(sp.I * x2 / 2)]])\n",
    "\n",
    "# Compute the tensor product\n",
    "RZ_tensor_product = TensorProduct(RZ_x1, RZ_x2)"
   ]
  },
  {
   "cell_type": "code",
   "execution_count": null,
   "id": "9731ce2b-d9ae-4532-930b-079dffc9a79c",
   "metadata": {},
   "outputs": [],
   "source": []
  },
  {
   "cell_type": "code",
   "execution_count": 2,
   "id": "073557a9-2554-442c-9f30-45b5960c4c8d",
   "metadata": {},
   "outputs": [
    {
     "data": {
      "text/latex": [
       "$\\displaystyle \\left[\\begin{matrix}e^{- \\frac{i x_{1}}{2}} e^{- \\frac{i x_{2}}{2}} & 0 & 0 & 0\\\\0 & e^{- \\frac{i x_{1}}{2}} e^{\\frac{i x_{2}}{2}} & 0 & 0\\\\0 & 0 & e^{\\frac{i x_{1}}{2}} e^{- \\frac{i x_{2}}{2}} & 0\\\\0 & 0 & 0 & e^{\\frac{i x_{1}}{2}} e^{\\frac{i x_{2}}{2}}\\end{matrix}\\right]$"
      ],
      "text/plain": [
       "Matrix([\n",
       "[exp(-I*x1/2)*exp(-I*x2/2),                        0,                        0,                       0],\n",
       "[                        0, exp(-I*x1/2)*exp(I*x2/2),                        0,                       0],\n",
       "[                        0,                        0, exp(I*x1/2)*exp(-I*x2/2),                       0],\n",
       "[                        0,                        0,                        0, exp(I*x1/2)*exp(I*x2/2)]])"
      ]
     },
     "execution_count": 2,
     "metadata": {},
     "output_type": "execute_result"
    }
   ],
   "source": [
    "RZ_tensor_product"
   ]
  },
  {
   "cell_type": "code",
   "execution_count": 3,
   "id": "76520719-376e-4776-873f-0f6fc0c7aec7",
   "metadata": {},
   "outputs": [
    {
     "data": {
      "text/latex": [
       "$\\displaystyle \\left[\\begin{matrix}e^{- \\frac{i x_{1}}{2}} e^{- \\frac{i x_{2}}{2}} & 0 & 0 & 0\\\\0 & e^{\\frac{i x_{1}}{2}} e^{- \\frac{i x_{2}}{2}} & 0 & 0\\\\0 & 0 & e^{- \\frac{i x_{1}}{2}} e^{\\frac{i x_{2}}{2}} & 0\\\\0 & 0 & 0 & e^{\\frac{i x_{1}}{2}} e^{\\frac{i x_{2}}{2}}\\end{matrix}\\right]$"
      ],
      "text/plain": [
       "Matrix([\n",
       "[exp(-I*x1/2)*exp(-I*x2/2),                        0,                        0,                       0],\n",
       "[                        0, exp(I*x1/2)*exp(-I*x2/2),                        0,                       0],\n",
       "[                        0,                        0, exp(-I*x1/2)*exp(I*x2/2),                       0],\n",
       "[                        0,                        0,                        0, exp(I*x1/2)*exp(I*x2/2)]])"
      ]
     },
     "execution_count": 3,
     "metadata": {},
     "output_type": "execute_result"
    }
   ],
   "source": [
    "TensorProduct(RZ_x2, RZ_x1)"
   ]
  },
  {
   "cell_type": "code",
   "execution_count": 4,
   "id": "f98af8f1-8128-4513-8db2-925fcdf3d605",
   "metadata": {},
   "outputs": [
    {
     "data": {
      "text/latex": [
       "$\\displaystyle \\left[\\begin{matrix}1 & 0 & 0 & 0\\\\0 & 0 & 1 & 0\\\\0 & 1 & 0 & 0\\\\0 & 0 & 0 & 1\\end{matrix}\\right]$"
      ],
      "text/plain": [
       "Matrix([\n",
       "[1, 0, 0, 0],\n",
       "[0, 0, 1, 0],\n",
       "[0, 1, 0, 0],\n",
       "[0, 0, 0, 1]])"
      ]
     },
     "execution_count": 4,
     "metadata": {},
     "output_type": "execute_result"
    }
   ],
   "source": [
    "swap = sp.Matrix([[1, 0, 0, 0], [0, 0, 1, 0], [0, 1, 0, 0], [0, 0, 0, 1]])\n",
    "swap"
   ]
  },
  {
   "cell_type": "code",
   "execution_count": 5,
   "id": "4e15c47e-d453-46ce-bca0-5fb8e19dfdac",
   "metadata": {},
   "outputs": [
    {
     "data": {
      "text/latex": [
       "$\\displaystyle \\left[\\begin{matrix}e^{- \\frac{i x_{1}}{2}} e^{- \\frac{i x_{2}}{2}} & 0 & 0 & 0\\\\0 & e^{- \\frac{i x_{1}}{2}} e^{\\frac{i x_{2}}{2}} & 0 & 0\\\\0 & 0 & e^{\\frac{i x_{1}}{2}} e^{- \\frac{i x_{2}}{2}} & 0\\\\0 & 0 & 0 & e^{\\frac{i x_{1}}{2}} e^{\\frac{i x_{2}}{2}}\\end{matrix}\\right]$"
      ],
      "text/plain": [
       "Matrix([\n",
       "[exp(-I*x1/2)*exp(-I*x2/2),                        0,                        0,                       0],\n",
       "[                        0, exp(-I*x1/2)*exp(I*x2/2),                        0,                       0],\n",
       "[                        0,                        0, exp(I*x1/2)*exp(-I*x2/2),                       0],\n",
       "[                        0,                        0,                        0, exp(I*x1/2)*exp(I*x2/2)]])"
      ]
     },
     "execution_count": 5,
     "metadata": {},
     "output_type": "execute_result"
    }
   ],
   "source": [
    "swap * TensorProduct(RZ_x2, RZ_x1) * swap"
   ]
  },
  {
   "cell_type": "code",
   "execution_count": 6,
   "id": "40e8bc32-d095-4002-8957-6f0bc5a5bf8a",
   "metadata": {},
   "outputs": [],
   "source": [
    "X = sp.Matrix([[0, 1], [1, 0]])"
   ]
  },
  {
   "cell_type": "code",
   "execution_count": 7,
   "id": "035e81fa-68c5-42da-8f5f-e98b23896249",
   "metadata": {},
   "outputs": [
    {
     "data": {
      "text/latex": [
       "$\\displaystyle \\left[\\begin{matrix}0 & 1\\\\1 & 0\\end{matrix}\\right]$"
      ],
      "text/plain": [
       "Matrix([\n",
       "[0, 1],\n",
       "[1, 0]])"
      ]
     },
     "execution_count": 7,
     "metadata": {},
     "output_type": "execute_result"
    }
   ],
   "source": [
    "X"
   ]
  },
  {
   "cell_type": "code",
   "execution_count": 8,
   "id": "a442ac3c-ee88-40b8-a640-b04090fb3151",
   "metadata": {},
   "outputs": [
    {
     "data": {
      "text/latex": [
       "$\\displaystyle \\left[\\begin{matrix}e^{\\frac{i x_{1}}{2}} & 0\\\\0 & e^{- \\frac{i x_{1}}{2}}\\end{matrix}\\right]$"
      ],
      "text/plain": [
       "Matrix([\n",
       "[exp(I*x1/2),            0],\n",
       "[          0, exp(-I*x1/2)]])"
      ]
     },
     "execution_count": 8,
     "metadata": {},
     "output_type": "execute_result"
    }
   ],
   "source": [
    "X * RZ_x1 * X"
   ]
  },
  {
   "cell_type": "code",
   "execution_count": 9,
   "id": "1fde235f-6d2c-454d-9a55-9793be12a375",
   "metadata": {},
   "outputs": [
    {
     "data": {
      "text/latex": [
       "$\\displaystyle \\left[\\begin{matrix}e^{- \\frac{i x_{1}}{2}} & 0\\\\0 & e^{\\frac{i x_{1}}{2}}\\end{matrix}\\right]$"
      ],
      "text/plain": [
       "Matrix([\n",
       "[exp(-I*x1/2),           0],\n",
       "[           0, exp(I*x1/2)]])"
      ]
     },
     "execution_count": 9,
     "metadata": {},
     "output_type": "execute_result"
    }
   ],
   "source": [
    "RZ_x1"
   ]
  },
  {
   "cell_type": "code",
   "execution_count": 10,
   "id": "c189e9b7-619a-4c6b-88e8-c42826cd48a4",
   "metadata": {},
   "outputs": [
    {
     "data": {
      "text/latex": [
       "$\\displaystyle \\left[\\begin{matrix}a_{00} b_{00} & a_{00} b_{01} & a_{00} b_{02} & a_{00} b_{03} & a_{01} b_{00} & a_{01} b_{01} & a_{01} b_{02} & a_{01} b_{03}\\\\a_{00} b_{10} & a_{00} b_{11} & a_{00} b_{12} & a_{00} b_{13} & a_{01} b_{10} & a_{01} b_{11} & a_{01} b_{12} & a_{01} b_{13}\\\\a_{00} b_{20} & a_{00} b_{21} & a_{00} b_{22} & a_{00} b_{23} & a_{01} b_{20} & a_{01} b_{21} & a_{01} b_{22} & a_{01} b_{23}\\\\a_{00} b_{30} & a_{00} b_{31} & a_{00} b_{32} & a_{00} b_{33} & a_{01} b_{30} & a_{01} b_{31} & a_{01} b_{32} & a_{01} b_{33}\\\\a_{10} b_{00} & a_{10} b_{01} & a_{10} b_{02} & a_{10} b_{03} & a_{11} b_{00} & a_{11} b_{01} & a_{11} b_{02} & a_{11} b_{03}\\\\a_{10} b_{10} & a_{10} b_{11} & a_{10} b_{12} & a_{10} b_{13} & a_{11} b_{10} & a_{11} b_{11} & a_{11} b_{12} & a_{11} b_{13}\\\\a_{10} b_{20} & a_{10} b_{21} & a_{10} b_{22} & a_{10} b_{23} & a_{11} b_{20} & a_{11} b_{21} & a_{11} b_{22} & a_{11} b_{23}\\\\a_{10} b_{30} & a_{10} b_{31} & a_{10} b_{32} & a_{10} b_{33} & a_{11} b_{30} & a_{11} b_{31} & a_{11} b_{32} & a_{11} b_{33}\\end{matrix}\\right]$"
      ],
      "text/plain": [
       "Matrix([\n",
       "[a00*b00, a00*b01, a00*b02, a00*b03, a01*b00, a01*b01, a01*b02, a01*b03],\n",
       "[a00*b10, a00*b11, a00*b12, a00*b13, a01*b10, a01*b11, a01*b12, a01*b13],\n",
       "[a00*b20, a00*b21, a00*b22, a00*b23, a01*b20, a01*b21, a01*b22, a01*b23],\n",
       "[a00*b30, a00*b31, a00*b32, a00*b33, a01*b30, a01*b31, a01*b32, a01*b33],\n",
       "[a10*b00, a10*b01, a10*b02, a10*b03, a11*b00, a11*b01, a11*b02, a11*b03],\n",
       "[a10*b10, a10*b11, a10*b12, a10*b13, a11*b10, a11*b11, a11*b12, a11*b13],\n",
       "[a10*b20, a10*b21, a10*b22, a10*b23, a11*b20, a11*b21, a11*b22, a11*b23],\n",
       "[a10*b30, a10*b31, a10*b32, a10*b33, a11*b30, a11*b31, a11*b32, a11*b33]])"
      ]
     },
     "execution_count": 10,
     "metadata": {},
     "output_type": "execute_result"
    }
   ],
   "source": [
    "a00, a01, a10, a11 = sp.symbols(\"a00 a01 a10 a11\")\n",
    "b00, b01, b02, b03, b10, b11, b12, b13, b20, b21, b22, b23, b30, b31, b32, b33 = (\n",
    "    sp.symbols(\"b00 b01 b02 b03 b10 b11 b12 b13 b20 b21 b22 b23 b30 b31 b32 b33\")\n",
    ")\n",
    "c00, c01, c10, c11 = sp.symbols(\"c00 c01 c10 c11\")\n",
    "\n",
    "# Define the matrices\n",
    "A = sp.Matrix([[a00, a01], [a10, a11]])\n",
    "B = sp.Matrix(\n",
    "    [\n",
    "        [b00, b01, b02, b03],\n",
    "        [b10, b11, b12, b13],\n",
    "        [b20, b21, b22, b23],\n",
    "        [b30, b31, b32, b33],\n",
    "    ]\n",
    ")\n",
    "C = sp.Matrix([[c00, c01], [c10, c11]])\n",
    "B_small = sp.Matrix([[b00, b01], [b10, b11]])\n",
    "\n",
    "# Compute the tensor (Kronecker) product of A and B\n",
    "sp.kronecker_product(A, B)"
   ]
  },
  {
   "cell_type": "code",
   "execution_count": 11,
   "id": "2b805296-3525-4168-b6f5-b02a56182941",
   "metadata": {},
   "outputs": [
    {
     "data": {
      "text/latex": [
       "$\\displaystyle \\left[\\begin{matrix}a_{00} b_{00} & a_{01} b_{00} & a_{00} b_{01} & a_{01} b_{01} & a_{00} b_{02} & a_{01} b_{02} & a_{00} b_{03} & a_{01} b_{03}\\\\a_{10} b_{00} & a_{11} b_{00} & a_{10} b_{01} & a_{11} b_{01} & a_{10} b_{02} & a_{11} b_{02} & a_{10} b_{03} & a_{11} b_{03}\\\\a_{00} b_{10} & a_{01} b_{10} & a_{00} b_{11} & a_{01} b_{11} & a_{00} b_{12} & a_{01} b_{12} & a_{00} b_{13} & a_{01} b_{13}\\\\a_{10} b_{10} & a_{11} b_{10} & a_{10} b_{11} & a_{11} b_{11} & a_{10} b_{12} & a_{11} b_{12} & a_{10} b_{13} & a_{11} b_{13}\\\\a_{00} b_{20} & a_{01} b_{20} & a_{00} b_{21} & a_{01} b_{21} & a_{00} b_{22} & a_{01} b_{22} & a_{00} b_{23} & a_{01} b_{23}\\\\a_{10} b_{20} & a_{11} b_{20} & a_{10} b_{21} & a_{11} b_{21} & a_{10} b_{22} & a_{11} b_{22} & a_{10} b_{23} & a_{11} b_{23}\\\\a_{00} b_{30} & a_{01} b_{30} & a_{00} b_{31} & a_{01} b_{31} & a_{00} b_{32} & a_{01} b_{32} & a_{00} b_{33} & a_{01} b_{33}\\\\a_{10} b_{30} & a_{11} b_{30} & a_{10} b_{31} & a_{11} b_{31} & a_{10} b_{32} & a_{11} b_{32} & a_{10} b_{33} & a_{11} b_{33}\\end{matrix}\\right]$"
      ],
      "text/plain": [
       "Matrix([\n",
       "[a00*b00, a01*b00, a00*b01, a01*b01, a00*b02, a01*b02, a00*b03, a01*b03],\n",
       "[a10*b00, a11*b00, a10*b01, a11*b01, a10*b02, a11*b02, a10*b03, a11*b03],\n",
       "[a00*b10, a01*b10, a00*b11, a01*b11, a00*b12, a01*b12, a00*b13, a01*b13],\n",
       "[a10*b10, a11*b10, a10*b11, a11*b11, a10*b12, a11*b12, a10*b13, a11*b13],\n",
       "[a00*b20, a01*b20, a00*b21, a01*b21, a00*b22, a01*b22, a00*b23, a01*b23],\n",
       "[a10*b20, a11*b20, a10*b21, a11*b21, a10*b22, a11*b22, a10*b23, a11*b23],\n",
       "[a00*b30, a01*b30, a00*b31, a01*b31, a00*b32, a01*b32, a00*b33, a01*b33],\n",
       "[a10*b30, a11*b30, a10*b31, a11*b31, a10*b32, a11*b32, a10*b33, a11*b33]])"
      ]
     },
     "execution_count": 11,
     "metadata": {},
     "output_type": "execute_result"
    }
   ],
   "source": [
    "sp.kronecker_product(B, A)"
   ]
  },
  {
   "cell_type": "code",
   "execution_count": 12,
   "id": "ad1a007e-c2af-4d0f-ad73-3a52f8c4e050",
   "metadata": {},
   "outputs": [
    {
     "data": {
      "text/latex": [
       "$\\displaystyle \\left[\\begin{matrix}a_{00} b_{00} c_{00} & a_{00} b_{00} c_{01} & a_{00} b_{01} c_{00} & a_{00} b_{01} c_{01} & a_{01} b_{00} c_{00} & a_{01} b_{00} c_{01} & a_{01} b_{01} c_{00} & a_{01} b_{01} c_{01}\\\\a_{00} b_{00} c_{10} & a_{00} b_{00} c_{11} & a_{00} b_{01} c_{10} & a_{00} b_{01} c_{11} & a_{01} b_{00} c_{10} & a_{01} b_{00} c_{11} & a_{01} b_{01} c_{10} & a_{01} b_{01} c_{11}\\\\a_{00} b_{10} c_{00} & a_{00} b_{10} c_{01} & a_{00} b_{11} c_{00} & a_{00} b_{11} c_{01} & a_{01} b_{10} c_{00} & a_{01} b_{10} c_{01} & a_{01} b_{11} c_{00} & a_{01} b_{11} c_{01}\\\\a_{00} b_{10} c_{10} & a_{00} b_{10} c_{11} & a_{00} b_{11} c_{10} & a_{00} b_{11} c_{11} & a_{01} b_{10} c_{10} & a_{01} b_{10} c_{11} & a_{01} b_{11} c_{10} & a_{01} b_{11} c_{11}\\\\a_{10} b_{00} c_{00} & a_{10} b_{00} c_{01} & a_{10} b_{01} c_{00} & a_{10} b_{01} c_{01} & a_{11} b_{00} c_{00} & a_{11} b_{00} c_{01} & a_{11} b_{01} c_{00} & a_{11} b_{01} c_{01}\\\\a_{10} b_{00} c_{10} & a_{10} b_{00} c_{11} & a_{10} b_{01} c_{10} & a_{10} b_{01} c_{11} & a_{11} b_{00} c_{10} & a_{11} b_{00} c_{11} & a_{11} b_{01} c_{10} & a_{11} b_{01} c_{11}\\\\a_{10} b_{10} c_{00} & a_{10} b_{10} c_{01} & a_{10} b_{11} c_{00} & a_{10} b_{11} c_{01} & a_{11} b_{10} c_{00} & a_{11} b_{10} c_{01} & a_{11} b_{11} c_{00} & a_{11} b_{11} c_{01}\\\\a_{10} b_{10} c_{10} & a_{10} b_{10} c_{11} & a_{10} b_{11} c_{10} & a_{10} b_{11} c_{11} & a_{11} b_{10} c_{10} & a_{11} b_{10} c_{11} & a_{11} b_{11} c_{10} & a_{11} b_{11} c_{11}\\end{matrix}\\right]$"
      ],
      "text/plain": [
       "Matrix([\n",
       "[a00*b00*c00, a00*b00*c01, a00*b01*c00, a00*b01*c01, a01*b00*c00, a01*b00*c01, a01*b01*c00, a01*b01*c01],\n",
       "[a00*b00*c10, a00*b00*c11, a00*b01*c10, a00*b01*c11, a01*b00*c10, a01*b00*c11, a01*b01*c10, a01*b01*c11],\n",
       "[a00*b10*c00, a00*b10*c01, a00*b11*c00, a00*b11*c01, a01*b10*c00, a01*b10*c01, a01*b11*c00, a01*b11*c01],\n",
       "[a00*b10*c10, a00*b10*c11, a00*b11*c10, a00*b11*c11, a01*b10*c10, a01*b10*c11, a01*b11*c10, a01*b11*c11],\n",
       "[a10*b00*c00, a10*b00*c01, a10*b01*c00, a10*b01*c01, a11*b00*c00, a11*b00*c01, a11*b01*c00, a11*b01*c01],\n",
       "[a10*b00*c10, a10*b00*c11, a10*b01*c10, a10*b01*c11, a11*b00*c10, a11*b00*c11, a11*b01*c10, a11*b01*c11],\n",
       "[a10*b10*c00, a10*b10*c01, a10*b11*c00, a10*b11*c01, a11*b10*c00, a11*b10*c01, a11*b11*c00, a11*b11*c01],\n",
       "[a10*b10*c10, a10*b10*c11, a10*b11*c10, a10*b11*c11, a11*b10*c10, a11*b10*c11, a11*b11*c10, a11*b11*c11]])"
      ]
     },
     "execution_count": 12,
     "metadata": {},
     "output_type": "execute_result"
    }
   ],
   "source": [
    "TensorProduct(A, B_small, C)"
   ]
  },
  {
   "cell_type": "code",
   "execution_count": 13,
   "id": "c21fd52b-3667-4d6f-9b30-9d9c65b40a27",
   "metadata": {},
   "outputs": [
    {
     "data": {
      "text/plain": [
       "array([[1., 0., 1., 0., 1., 0., 1., 0.],\n",
       "       [0., 1., 0., 1., 0., 1., 0., 1.],\n",
       "       [1., 0., 1., 0., 1., 0., 1., 0.],\n",
       "       [0., 1., 0., 1., 0., 1., 0., 1.],\n",
       "       [1., 0., 1., 0., 1., 0., 1., 0.],\n",
       "       [0., 1., 0., 1., 0., 1., 0., 1.],\n",
       "       [1., 0., 1., 0., 1., 0., 1., 0.],\n",
       "       [0., 1., 0., 1., 0., 1., 0., 1.]])"
      ]
     },
     "execution_count": 13,
     "metadata": {},
     "output_type": "execute_result"
    }
   ],
   "source": [
    "aa = np.ones((2, 2))\n",
    "bb = np.ones((2, 2))\n",
    "cc = np.eye(2)\n",
    "np.kron(np.kron(aa, bb), cc)"
   ]
  },
  {
   "cell_type": "code",
   "execution_count": 14,
   "id": "3b709d5b-25e2-46ec-a496-5d632fa9109c",
   "metadata": {},
   "outputs": [
    {
     "data": {
      "text/plain": [
       "array([[1., 0., 0., 0., 0., 0., 0., 0.],\n",
       "       [0., 1., 0., 0., 0., 0., 0., 0.],\n",
       "       [0., 0., 0., 0., 1., 0., 0., 0.],\n",
       "       [0., 0., 0., 0., 0., 1., 0., 0.],\n",
       "       [0., 0., 1., 0., 0., 0., 0., 0.],\n",
       "       [0., 0., 0., 1., 0., 0., 0., 0.],\n",
       "       [0., 0., 0., 0., 0., 0., 1., 0.],\n",
       "       [0., 0., 0., 0., 0., 0., 0., 1.]])"
      ]
     },
     "execution_count": 14,
     "metadata": {},
     "output_type": "execute_result"
    }
   ],
   "source": [
    "bb = np.zeros((4, 4))\n",
    "bb[0, 0] = bb[2, 1] = bb[1, 2] = bb[3, 3] = 1\n",
    "np.kron(bb, np.eye(2))"
   ]
  },
  {
   "cell_type": "code",
   "execution_count": 15,
   "id": "6795097c-dfe7-4317-8700-5739de8fdc3e",
   "metadata": {},
   "outputs": [
    {
     "data": {
      "text/plain": [
       "array([[1., 0., 0., 0.],\n",
       "       [0., 0., 1., 0.],\n",
       "       [0., 1., 0., 0.],\n",
       "       [0., 0., 0., 1.]])"
      ]
     },
     "execution_count": 15,
     "metadata": {},
     "output_type": "execute_result"
    }
   ],
   "source": [
    "bb"
   ]
  },
  {
   "cell_type": "code",
   "execution_count": 17,
   "id": "f2babfdf-9ad8-437e-8772-574eb3f949de",
   "metadata": {},
   "outputs": [
    {
     "data": {
      "text/plain": [
       "array([[0, 0, 0, 0, 0, 0, 1, 0],\n",
       "       [0, 0, 0, 0, 0, 0, 0, 1],\n",
       "       [0, 0, 0, 0, 1, 0, 0, 0],\n",
       "       [0, 0, 0, 0, 0, 1, 0, 0],\n",
       "       [0, 0, 1, 0, 0, 0, 0, 0],\n",
       "       [0, 0, 0, 1, 0, 0, 0, 0],\n",
       "       [1, 0, 0, 0, 0, 0, 0, 0],\n",
       "       [0, 1, 0, 0, 0, 0, 0, 0]])"
      ]
     },
     "execution_count": 17,
     "metadata": {},
     "output_type": "execute_result"
    }
   ],
   "source": [
    "x = [[0, 1], [1, 0]]\n",
    "i = [[1, 0], [0, 1]]\n",
    "np.kron(np.kron(x, x), i)"
   ]
  }
 ],
 "metadata": {
  "kernelspec": {
   "display_name": "Python 3 (ipykernel)",
   "language": "python",
   "name": "python3"
  },
  "language_info": {
   "codemirror_mode": {
    "name": "ipython",
    "version": 3
   },
   "file_extension": ".py",
   "mimetype": "text/x-python",
   "name": "python",
   "nbconvert_exporter": "python",
   "pygments_lexer": "ipython3",
   "version": "3.11.9"
  }
 },
 "nbformat": 4,
 "nbformat_minor": 5
}
