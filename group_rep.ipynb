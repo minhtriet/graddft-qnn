{
 "cells": [
  {
   "cell_type": "code",
   "execution_count": 1,
   "id": "2b514f96-1799-493e-8fe2-b88541b8eb58",
   "metadata": {
    "ExecuteTime": {
     "end_time": "2025-02-13T19:46:12.157300Z",
     "start_time": "2025-02-13T19:46:11.786907Z"
    }
   },
   "outputs": [],
   "source": [
    "from itertools import permutations\n",
    "\n",
    "import numpy as np"
   ]
  },
  {
   "cell_type": "code",
   "execution_count": 2,
   "id": "b3a5fa08-aaca-44c3-b853-0158c38fa6d5",
   "metadata": {
    "ExecuteTime": {
     "end_time": "2025-02-13T19:46:12.178676Z",
     "start_time": "2025-02-13T19:46:12.171632Z"
    }
   },
   "outputs": [],
   "source": [
    "def transform_matrix(matrix, cube):\n",
    "    transformed_cube = dict()\n",
    "    for key in cube:\n",
    "        transformed_cube[key] = list(matrix @ cube[key])\n",
    "    return dict(sorted(transformed_cube.items(), key=lambda item: item[1]))"
   ]
  },
  {
   "cell_type": "code",
   "execution_count": 3,
   "id": "4bcb2288-16b1-4fb5-bec6-8978b47b3ce4",
   "metadata": {
    "ExecuteTime": {
     "end_time": "2025-02-13T19:46:12.196566Z",
     "start_time": "2025-02-13T19:46:12.186641Z"
    }
   },
   "outputs": [],
   "source": [
    "perm_matrices = []\n",
    "for permutation in permutations([0, 1, 2]):\n",
    "    m = np.zeros((3, 3))\n",
    "    for row in range(3):\n",
    "        m[row, permutation[row]] = 1\n",
    "    perm_matrices.append(m)"
   ]
  },
  {
   "cell_type": "code",
   "execution_count": 4,
   "id": "a4ed0879-cb0f-4256-92aa-9b5f32d93392",
   "metadata": {
    "ExecuteTime": {
     "end_time": "2025-02-13T19:46:12.417375Z",
     "start_time": "2025-02-13T19:46:12.411161Z"
    }
   },
   "outputs": [
    {
     "data": {
      "text/plain": [
       "[array([[1., 0., 0.],\n",
       "        [0., 1., 0.],\n",
       "        [0., 0., 1.]]),\n",
       " array([[1., 0., 0.],\n",
       "        [0., 0., 1.],\n",
       "        [0., 1., 0.]]),\n",
       " array([[0., 1., 0.],\n",
       "        [1., 0., 0.],\n",
       "        [0., 0., 1.]]),\n",
       " array([[0., 1., 0.],\n",
       "        [0., 0., 1.],\n",
       "        [1., 0., 0.]]),\n",
       " array([[0., 0., 1.],\n",
       "        [1., 0., 0.],\n",
       "        [0., 1., 0.]]),\n",
       " array([[0., 0., 1.],\n",
       "        [0., 1., 0.],\n",
       "        [1., 0., 0.]])]"
      ]
     },
     "execution_count": 4,
     "metadata": {},
     "output_type": "execute_result"
    }
   ],
   "source": [
    "perm_matrices"
   ]
  },
  {
   "cell_type": "code",
   "execution_count": 5,
   "id": "abc13e86-685d-4780-b2e7-2f5dde8d9ceb",
   "metadata": {
    "ExecuteTime": {
     "end_time": "2025-02-13T19:46:12.471039Z",
     "start_time": "2025-02-13T19:46:12.464511Z"
    }
   },
   "outputs": [],
   "source": [
    "cube = {\n",
    "    \"a\": [0, 0, 0],\n",
    "    \"b\": [0, 0, 1],\n",
    "    \"c\": [0, 1, 0],\n",
    "    \"d\": [0, 1, 1],\n",
    "    \"e\": [1, 0, 0],\n",
    "    \"f\": [1, 0, 1],\n",
    "    \"g\": [1, 1, 0],\n",
    "    \"h\": [1, 1, 1],\n",
    "}"
   ]
  },
  {
   "cell_type": "code",
   "execution_count": 6,
   "id": "fe5f19aa-b9a8-4df4-9ede-dca4f57e5f5f",
   "metadata": {
    "ExecuteTime": {
     "end_time": "2025-02-13T19:46:12.498198Z",
     "start_time": "2025-02-13T19:46:12.486240Z"
    }
   },
   "outputs": [
    {
     "data": {
      "text/plain": [
       "{'a': [0.0, 0.0, 0.0],\n",
       " 'b': [0.0, 0.0, 1.0],\n",
       " 'c': [0.0, 1.0, 0.0],\n",
       " 'd': [0.0, 1.0, 1.0],\n",
       " 'e': [1.0, 0.0, 0.0],\n",
       " 'f': [1.0, 0.0, 1.0],\n",
       " 'g': [1.0, 1.0, 0.0],\n",
       " 'h': [1.0, 1.0, 1.0]}"
      ]
     },
     "execution_count": 6,
     "metadata": {},
     "output_type": "execute_result"
    }
   ],
   "source": [
    "transform_matrix(perm_matrices[0], cube)"
   ]
  },
  {
   "cell_type": "code",
   "execution_count": 7,
   "id": "d5b27f45-b8b1-4543-a2b0-c5c3686c1967",
   "metadata": {
    "ExecuteTime": {
     "end_time": "2025-02-13T19:46:12.553208Z",
     "start_time": "2025-02-13T19:46:12.547697Z"
    }
   },
   "outputs": [
    {
     "data": {
      "text/plain": [
       "{'a': [0.0, 0.0, 0.0],\n",
       " 'c': [0.0, 0.0, 1.0],\n",
       " 'b': [0.0, 1.0, 0.0],\n",
       " 'd': [0.0, 1.0, 1.0],\n",
       " 'e': [1.0, 0.0, 0.0],\n",
       " 'g': [1.0, 0.0, 1.0],\n",
       " 'f': [1.0, 1.0, 0.0],\n",
       " 'h': [1.0, 1.0, 1.0]}"
      ]
     },
     "execution_count": 7,
     "metadata": {},
     "output_type": "execute_result"
    }
   ],
   "source": [
    "transform_matrix(perm_matrices[1], cube)"
   ]
  },
  {
   "cell_type": "code",
   "execution_count": 8,
   "id": "89cf03ef-336d-4b5a-a48d-74abe52d93cf",
   "metadata": {
    "ExecuteTime": {
     "end_time": "2025-02-13T19:46:12.580396Z",
     "start_time": "2025-02-13T19:46:12.572852Z"
    }
   },
   "outputs": [
    {
     "data": {
      "text/plain": [
       "{'a': [0.0, 0.0, 0.0],\n",
       " 'b': [0.0, 0.0, 1.0],\n",
       " 'e': [0.0, 1.0, 0.0],\n",
       " 'f': [0.0, 1.0, 1.0],\n",
       " 'c': [1.0, 0.0, 0.0],\n",
       " 'd': [1.0, 0.0, 1.0],\n",
       " 'g': [1.0, 1.0, 0.0],\n",
       " 'h': [1.0, 1.0, 1.0]}"
      ]
     },
     "execution_count": 8,
     "metadata": {},
     "output_type": "execute_result"
    }
   ],
   "source": [
    "transform_matrix(perm_matrices[2], cube)"
   ]
  },
  {
   "cell_type": "code",
   "execution_count": 9,
   "id": "1f7f1516-d4f0-4519-aaf7-794084127380",
   "metadata": {
    "ExecuteTime": {
     "end_time": "2025-02-13T19:46:12.631026Z",
     "start_time": "2025-02-13T19:46:12.625191Z"
    }
   },
   "outputs": [
    {
     "data": {
      "text/plain": [
       "{'a': [0.0, 0.0, 0.0],\n",
       " 'e': [0.0, 0.0, 1.0],\n",
       " 'b': [0.0, 1.0, 0.0],\n",
       " 'f': [0.0, 1.0, 1.0],\n",
       " 'c': [1.0, 0.0, 0.0],\n",
       " 'g': [1.0, 0.0, 1.0],\n",
       " 'd': [1.0, 1.0, 0.0],\n",
       " 'h': [1.0, 1.0, 1.0]}"
      ]
     },
     "execution_count": 9,
     "metadata": {},
     "output_type": "execute_result"
    }
   ],
   "source": [
    "transform_matrix(perm_matrices[3], cube)"
   ]
  },
  {
   "cell_type": "code",
   "execution_count": 10,
   "id": "62c0ecff-50c9-4566-98b1-f9e6f6a860cf",
   "metadata": {
    "ExecuteTime": {
     "end_time": "2025-02-13T19:46:12.661666Z",
     "start_time": "2025-02-13T19:46:12.654456Z"
    }
   },
   "outputs": [
    {
     "data": {
      "text/plain": [
       "{'a': [0.0, 0.0, 0.0],\n",
       " 'e': [0.0, 0.0, 1.0],\n",
       " 'c': [0.0, 1.0, 0.0],\n",
       " 'g': [0.0, 1.0, 1.0],\n",
       " 'b': [1.0, 0.0, 0.0],\n",
       " 'f': [1.0, 0.0, 1.0],\n",
       " 'd': [1.0, 1.0, 0.0],\n",
       " 'h': [1.0, 1.0, 1.0]}"
      ]
     },
     "execution_count": 10,
     "metadata": {},
     "output_type": "execute_result"
    }
   ],
   "source": [
    "transform_matrix(perm_matrices[-1], cube)"
   ]
  },
  {
   "cell_type": "code",
   "execution_count": 11,
   "id": "07f4edca-b32a-4c9a-af52-3bfecef4434f",
   "metadata": {
    "ExecuteTime": {
     "end_time": "2025-02-13T19:46:12.719673Z",
     "start_time": "2025-02-13T19:46:12.714740Z"
    }
   },
   "outputs": [],
   "source": [
    "r1 = np.array([[1, 0, 0], [0, -1, 0], [0, 0, -1]])\n",
    "\n",
    "r2 = np.array([[-1, 0, 0], [0, 1, 0], [0, 0, -1]])\n",
    "\n",
    "r3 = np.array([[-1, 0, 0], [0, -1, 0], [0, 0, 1]])\n",
    "\n",
    "cube2 = {\n",
    "    \"a\": [-1, -1, -1],\n",
    "    \"b\": [-1, -1, 1],\n",
    "    \"c\": [-1, 1, -1],\n",
    "    \"d\": [-1, 1, 1],\n",
    "    \"e\": [1, -1, -1],\n",
    "    \"f\": [1, -1, 1],\n",
    "    \"g\": [1, 1, -1],\n",
    "    \"h\": [1, 1, 1],\n",
    "}"
   ]
  },
  {
   "cell_type": "code",
   "execution_count": 12,
   "id": "ffd1f02e-a868-400a-8777-7f73a719b3e5",
   "metadata": {
    "ExecuteTime": {
     "end_time": "2025-02-13T19:46:12.781723Z",
     "start_time": "2025-02-13T19:46:12.773437Z"
    }
   },
   "outputs": [
    {
     "data": {
      "text/plain": [
       "{'a': [-1.0, -1.0, -1.0],\n",
       " 'b': [-1.0, -1.0, 1.0],\n",
       " 'c': [-1.0, 1.0, -1.0],\n",
       " 'd': [-1.0, 1.0, 1.0],\n",
       " 'e': [1.0, -1.0, -1.0],\n",
       " 'f': [1.0, -1.0, 1.0],\n",
       " 'g': [1.0, 1.0, -1.0],\n",
       " 'h': [1.0, 1.0, 1.0]}"
      ]
     },
     "execution_count": 12,
     "metadata": {},
     "output_type": "execute_result"
    }
   ],
   "source": [
    "transform_matrix(np.eye(3), cube2)"
   ]
  },
  {
   "cell_type": "code",
   "execution_count": 13,
   "id": "53542a4f-b2cc-43fa-8295-916eb00d030f",
   "metadata": {
    "ExecuteTime": {
     "end_time": "2025-02-13T19:46:12.816301Z",
     "start_time": "2025-02-13T19:46:12.807185Z"
    }
   },
   "outputs": [
    {
     "data": {
      "text/plain": [
       "{'d': [-1, -1, -1],\n",
       " 'c': [-1, -1, 1],\n",
       " 'b': [-1, 1, -1],\n",
       " 'a': [-1, 1, 1],\n",
       " 'h': [1, -1, -1],\n",
       " 'g': [1, -1, 1],\n",
       " 'f': [1, 1, -1],\n",
       " 'e': [1, 1, 1]}"
      ]
     },
     "execution_count": 13,
     "metadata": {},
     "output_type": "execute_result"
    }
   ],
   "source": [
    "transform_matrix(r1, cube2)"
   ]
  },
  {
   "cell_type": "code",
   "execution_count": 14,
   "id": "1faa943a-7c32-492a-900f-a4ae3c414027",
   "metadata": {
    "ExecuteTime": {
     "end_time": "2025-02-13T19:46:12.874370Z",
     "start_time": "2025-02-13T19:46:12.866555Z"
    }
   },
   "outputs": [
    {
     "data": {
      "text/plain": [
       "{'f': [-1, -1, -1],\n",
       " 'e': [-1, -1, 1],\n",
       " 'h': [-1, 1, -1],\n",
       " 'g': [-1, 1, 1],\n",
       " 'b': [1, -1, -1],\n",
       " 'a': [1, -1, 1],\n",
       " 'd': [1, 1, -1],\n",
       " 'c': [1, 1, 1]}"
      ]
     },
     "execution_count": 14,
     "metadata": {},
     "output_type": "execute_result"
    }
   ],
   "source": [
    "transform_matrix(r2, cube2)"
   ]
  },
  {
   "cell_type": "code",
   "execution_count": 15,
   "id": "28782b3f-9dbb-4818-9e23-f94be0f0aee4",
   "metadata": {
    "ExecuteTime": {
     "end_time": "2025-02-13T19:46:12.896820Z",
     "start_time": "2025-02-13T19:46:12.890484Z"
    }
   },
   "outputs": [
    {
     "data": {
      "text/plain": [
       "{'g': [-1, -1, -1],\n",
       " 'h': [-1, -1, 1],\n",
       " 'e': [-1, 1, -1],\n",
       " 'f': [-1, 1, 1],\n",
       " 'c': [1, -1, -1],\n",
       " 'd': [1, -1, 1],\n",
       " 'a': [1, 1, -1],\n",
       " 'b': [1, 1, 1]}"
      ]
     },
     "execution_count": 15,
     "metadata": {},
     "output_type": "execute_result"
    }
   ],
   "source": [
    "transform_matrix(r3, cube2)"
   ]
  },
  {
   "cell_type": "markdown",
   "id": "9ed9d37c-30f6-494d-880a-9cb1a84e2319",
   "metadata": {},
   "source": [
    "## Reflection array"
   ]
  },
  {
   "cell_type": "code",
   "execution_count": 16,
   "id": "4d5e855d-f61d-4941-bc9c-0b35777866fb",
   "metadata": {},
   "outputs": [],
   "source": [
    "import numpy as np\n",
    "\n",
    "# Reflection through the plane x = 0 (yz-plane)\n",
    "M_x0 = np.array([[-1, 0, 0], [0, 1, 0], [0, 0, 1]])\n",
    "\n",
    "# Reflection through the plane y = 0 (xz-plane)\n",
    "M_y0 = np.array([[1, 0, 0], [0, -1, 0], [0, 0, 1]])\n",
    "\n",
    "# Reflection through the plane z = 0 (xy-plane)\n",
    "M_z0 = np.array([[1, 0, 0], [0, 1, 0], [0, 0, -1]])\n",
    "\n",
    "# Reflection through the plane x = y\n",
    "M_xy = np.array([[0, 1, 0], [1, 0, 0], [0, 0, 1]])\n",
    "\n",
    "# Reflection through the plane y = z\n",
    "M_yz = np.array([[1, 0, 0], [0, 0, 1], [0, 1, 0]])\n",
    "\n",
    "# Reflection through the plane z = x\n",
    "M_zx = np.array([[0, 0, 1], [0, 1, 0], [1, 0, 0]])\n",
    "\n",
    "# Reflection through the plane x = y = z\n",
    "\n",
    "\n",
    "# Reflection through the plane x = -y = z\n",
    "\n",
    "\n",
    "# Reflection through the plane x = -y = -z"
   ]
  },
  {
   "cell_type": "code",
   "execution_count": 17,
   "id": "8cf582b2-bbfe-4c4f-9e0a-bceed37f21de",
   "metadata": {},
   "outputs": [
    {
     "data": {
      "text/plain": [
       "{'e': [-1, -1, -1],\n",
       " 'f': [-1, -1, 1],\n",
       " 'g': [-1, 1, -1],\n",
       " 'h': [-1, 1, 1],\n",
       " 'a': [1, -1, -1],\n",
       " 'b': [1, -1, 1],\n",
       " 'c': [1, 1, -1],\n",
       " 'd': [1, 1, 1]}"
      ]
     },
     "execution_count": 17,
     "metadata": {},
     "output_type": "execute_result"
    }
   ],
   "source": [
    "transform_matrix(M_x0, cube2)"
   ]
  }
 ],
 "metadata": {
  "kernelspec": {
   "display_name": "Python 3 (ipykernel)",
   "language": "python",
   "name": "python3"
  },
  "language_info": {
   "codemirror_mode": {
    "name": "ipython",
    "version": 3
   },
   "file_extension": ".py",
   "mimetype": "text/x-python",
   "name": "python",
   "nbconvert_exporter": "python",
   "pygments_lexer": "ipython3",
   "version": "3.11.9"
  }
 },
 "nbformat": 4,
 "nbformat_minor": 5
}
