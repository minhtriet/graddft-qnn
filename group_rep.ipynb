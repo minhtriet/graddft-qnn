{
 "cells": [
  {
   "cell_type": "code",
   "execution_count": 3,
   "id": "2b514f96-1799-493e-8fe2-b88541b8eb58",
   "metadata": {},
   "outputs": [],
   "source": [
    "from itertools import permutations\n",
    "\n",
    "import numpy as np"
   ]
  },
  {
   "cell_type": "code",
   "execution_count": 31,
   "id": "b3a5fa08-aaca-44c3-b853-0158c38fa6d5",
   "metadata": {},
   "outputs": [],
   "source": [
    "def transform_matrix(matrix, cube):\n",
    "    transformed_cube = dict()\n",
    "    for key in cube:\n",
    "        transformed_cube[key] = list(matrix @ cube[key])\n",
    "    return dict(\n",
    "        sorted(transformed_cube.items(), key=lambda item: item[1])\n",
    "    )"
   ]
  },
  {
   "cell_type": "code",
   "execution_count": 4,
   "id": "4bcb2288-16b1-4fb5-bec6-8978b47b3ce4",
   "metadata": {},
   "outputs": [],
   "source": [
    "perm_matrices = []\n",
    "for permutation in permutations([0, 1, 2]):\n",
    "    m = np.zeros((3, 3))\n",
    "    for row in range(3):\n",
    "        m[row, permutation[row]] = 1\n",
    "    perm_matrices.append(m)"
   ]
  },
  {
   "cell_type": "code",
   "execution_count": 5,
   "id": "a4ed0879-cb0f-4256-92aa-9b5f32d93392",
   "metadata": {},
   "outputs": [
    {
     "data": {
      "text/plain": [
       "[array([[1., 0., 0.],\n",
       "        [0., 1., 0.],\n",
       "        [0., 0., 1.]]),\n",
       " array([[1., 0., 0.],\n",
       "        [0., 0., 1.],\n",
       "        [0., 1., 0.]]),\n",
       " array([[0., 1., 0.],\n",
       "        [1., 0., 0.],\n",
       "        [0., 0., 1.]]),\n",
       " array([[0., 1., 0.],\n",
       "        [0., 0., 1.],\n",
       "        [1., 0., 0.]]),\n",
       " array([[0., 0., 1.],\n",
       "        [1., 0., 0.],\n",
       "        [0., 1., 0.]]),\n",
       " array([[0., 0., 1.],\n",
       "        [0., 1., 0.],\n",
       "        [1., 0., 0.]])]"
      ]
     },
     "execution_count": 5,
     "metadata": {},
     "output_type": "execute_result"
    }
   ],
   "source": [
    "perm_matrices"
   ]
  },
  {
   "cell_type": "code",
   "execution_count": 6,
   "id": "abc13e86-685d-4780-b2e7-2f5dde8d9ceb",
   "metadata": {},
   "outputs": [],
   "source": [
    "cube = {\n",
    "    \"a\": [0, 0, 0],\n",
    "    \"b\": [0, 0, 1],\n",
    "    \"c\": [0, 1, 0],\n",
    "    \"d\": [0, 1, 1],\n",
    "    \"e\": [1, 0, 0],\n",
    "    \"f\": [1, 0, 1],\n",
    "    \"g\": [1, 1, 0],\n",
    "    \"h\": [1, 1, 1],\n",
    "}"
   ]
  },
  {
   "cell_type": "code",
   "execution_count": 7,
   "id": "fe5f19aa-b9a8-4df4-9ede-dca4f57e5f5f",
   "metadata": {},
   "outputs": [
    {
     "data": {
      "text/plain": [
       "{'a': array([0., 0., 0.]),\n",
       " 'b': array([0., 0., 1.]),\n",
       " 'c': array([0., 1., 0.]),\n",
       " 'd': array([0., 1., 1.]),\n",
       " 'e': array([1., 0., 0.]),\n",
       " 'f': array([1., 0., 1.]),\n",
       " 'g': array([1., 1., 0.]),\n",
       " 'h': array([1., 1., 1.])}"
      ]
     },
     "execution_count": 7,
     "metadata": {},
     "output_type": "execute_result"
    }
   ],
   "source": [
    "transform_matrix(perm_matrices[0], cube)"
   ]
  },
  {
   "cell_type": "code",
   "execution_count": 8,
   "id": "d5b27f45-b8b1-4543-a2b0-c5c3686c1967",
   "metadata": {},
   "outputs": [
    {
     "data": {
      "text/plain": [
       "{'a': array([0., 0., 0.]),\n",
       " 'c': array([0., 0., 1.]),\n",
       " 'b': array([0., 1., 0.]),\n",
       " 'd': array([0., 1., 1.]),\n",
       " 'e': array([1., 0., 0.]),\n",
       " 'g': array([1., 0., 1.]),\n",
       " 'f': array([1., 1., 0.]),\n",
       " 'h': array([1., 1., 1.])}"
      ]
     },
     "execution_count": 8,
     "metadata": {},
     "output_type": "execute_result"
    }
   ],
   "source": [
    "transform_matrix(perm_matrices[1], cube)"
   ]
  },
  {
   "cell_type": "code",
   "execution_count": 9,
   "id": "89cf03ef-336d-4b5a-a48d-74abe52d93cf",
   "metadata": {},
   "outputs": [
    {
     "data": {
      "text/plain": [
       "{'a': array([0., 0., 0.]),\n",
       " 'b': array([0., 0., 1.]),\n",
       " 'e': array([0., 1., 0.]),\n",
       " 'f': array([0., 1., 1.]),\n",
       " 'c': array([1., 0., 0.]),\n",
       " 'd': array([1., 0., 1.]),\n",
       " 'g': array([1., 1., 0.]),\n",
       " 'h': array([1., 1., 1.])}"
      ]
     },
     "execution_count": 9,
     "metadata": {},
     "output_type": "execute_result"
    }
   ],
   "source": [
    "transform_matrix(perm_matrices[2], cube)"
   ]
  },
  {
   "cell_type": "code",
   "execution_count": 10,
   "id": "1f7f1516-d4f0-4519-aaf7-794084127380",
   "metadata": {},
   "outputs": [
    {
     "data": {
      "text/plain": [
       "{'a': array([0., 0., 0.]),\n",
       " 'e': array([0., 0., 1.]),\n",
       " 'b': array([0., 1., 0.]),\n",
       " 'f': array([0., 1., 1.]),\n",
       " 'c': array([1., 0., 0.]),\n",
       " 'g': array([1., 0., 1.]),\n",
       " 'd': array([1., 1., 0.]),\n",
       " 'h': array([1., 1., 1.])}"
      ]
     },
     "execution_count": 10,
     "metadata": {},
     "output_type": "execute_result"
    }
   ],
   "source": [
    "transform_matrix(perm_matrices[3], cube)"
   ]
  },
  {
   "cell_type": "code",
   "execution_count": 11,
   "id": "62c0ecff-50c9-4566-98b1-f9e6f6a860cf",
   "metadata": {},
   "outputs": [
    {
     "data": {
      "text/plain": [
       "{'a': array([0., 0., 0.]),\n",
       " 'e': array([0., 0., 1.]),\n",
       " 'c': array([0., 1., 0.]),\n",
       " 'g': array([0., 1., 1.]),\n",
       " 'b': array([1., 0., 0.]),\n",
       " 'f': array([1., 0., 1.]),\n",
       " 'd': array([1., 1., 0.]),\n",
       " 'h': array([1., 1., 1.])}"
      ]
     },
     "execution_count": 11,
     "metadata": {},
     "output_type": "execute_result"
    }
   ],
   "source": [
    "transform_matrix(perm_matrices[-1], cube)"
   ]
  },
  {
   "cell_type": "code",
   "execution_count": 39,
   "id": "07f4edca-b32a-4c9a-af52-3bfecef4434f",
   "metadata": {},
   "outputs": [],
   "source": [
    "r1=np.array([[1,0,0],\n",
    "            [0,-1,0],\n",
    "            [0,0,-1]])\n",
    "\n",
    "r2=np.array([[-1,0,0],\n",
    "            [0,1,0],\n",
    "            [0,0,-1]])\n",
    "\n",
    "r3=np.array([[-1,0,0],\n",
    "            [0,-1,0],\n",
    "            [0,0,1]])\n",
    "\n",
    "cube2 = {\n",
    "    \"a\": [-1, -1, -1],\n",
    "    \"b\": [-1, -1, 1],\n",
    "    \"c\": [-1, 1, -1],\n",
    "    \"d\": [-1, 1, 1],\n",
    "    \"e\": [1, -1, -1],\n",
    "    \"f\": [1, -1, 1],\n",
    "    \"g\": [1, 1, -1],\n",
    "    \"h\": [1, 1, 1],\n",
    "}"
   ]
  },
  {
   "cell_type": "code",
   "execution_count": 40,
   "id": "ffd1f02e-a868-400a-8777-7f73a719b3e5",
   "metadata": {},
   "outputs": [
    {
     "data": {
      "text/plain": [
       "{'a': [-1.0, -1.0, -1.0],\n",
       " 'b': [-1.0, -1.0, 1.0],\n",
       " 'c': [-1.0, 1.0, -1.0],\n",
       " 'd': [-1.0, 1.0, 1.0],\n",
       " 'e': [1.0, -1.0, -1.0],\n",
       " 'f': [1.0, -1.0, 1.0],\n",
       " 'g': [1.0, 1.0, -1.0],\n",
       " 'h': [1.0, 1.0, 1.0]}"
      ]
     },
     "execution_count": 40,
     "metadata": {},
     "output_type": "execute_result"
    }
   ],
   "source": [
    "transform_matrix(np.eye(3), cube2)"
   ]
  },
  {
   "cell_type": "code",
   "execution_count": 41,
   "id": "53542a4f-b2cc-43fa-8295-916eb00d030f",
   "metadata": {},
   "outputs": [
    {
     "data": {
      "text/plain": [
       "{'d': [-1, -1, -1],\n",
       " 'c': [-1, -1, 1],\n",
       " 'b': [-1, 1, -1],\n",
       " 'a': [-1, 1, 1],\n",
       " 'h': [1, -1, -1],\n",
       " 'g': [1, -1, 1],\n",
       " 'f': [1, 1, -1],\n",
       " 'e': [1, 1, 1]}"
      ]
     },
     "execution_count": 41,
     "metadata": {},
     "output_type": "execute_result"
    }
   ],
   "source": [
    "transform_matrix(r1, cube2)"
   ]
  },
  {
   "cell_type": "code",
   "execution_count": 42,
   "id": "1faa943a-7c32-492a-900f-a4ae3c414027",
   "metadata": {},
   "outputs": [
    {
     "data": {
      "text/plain": [
       "{'f': [-1, -1, -1],\n",
       " 'e': [-1, -1, 1],\n",
       " 'h': [-1, 1, -1],\n",
       " 'g': [-1, 1, 1],\n",
       " 'b': [1, -1, -1],\n",
       " 'a': [1, -1, 1],\n",
       " 'd': [1, 1, -1],\n",
       " 'c': [1, 1, 1]}"
      ]
     },
     "execution_count": 42,
     "metadata": {},
     "output_type": "execute_result"
    }
   ],
   "source": [
    "transform_matrix(r2, cube2)"
   ]
  },
  {
   "cell_type": "code",
   "execution_count": 43,
   "id": "28782b3f-9dbb-4818-9e23-f94be0f0aee4",
   "metadata": {},
   "outputs": [
    {
     "data": {
      "text/plain": [
       "{'g': [-1, -1, -1],\n",
       " 'h': [-1, -1, 1],\n",
       " 'e': [-1, 1, -1],\n",
       " 'f': [-1, 1, 1],\n",
       " 'c': [1, -1, -1],\n",
       " 'd': [1, -1, 1],\n",
       " 'a': [1, 1, -1],\n",
       " 'b': [1, 1, 1]}"
      ]
     },
     "execution_count": 43,
     "metadata": {},
     "output_type": "execute_result"
    }
   ],
   "source": [
    "transform_matrix(r3, cube2)"
   ]
  }
 ],
 "metadata": {
  "kernelspec": {
   "display_name": "Python 3 (ipykernel)",
   "language": "python",
   "name": "python3"
  },
  "language_info": {
   "codemirror_mode": {
    "name": "ipython",
    "version": 3
   },
   "file_extension": ".py",
   "mimetype": "text/x-python",
   "name": "python",
   "nbconvert_exporter": "python",
   "pygments_lexer": "ipython3",
   "version": "3.11.9"
  }
 },
 "nbformat": 4,
 "nbformat_minor": 5
}
